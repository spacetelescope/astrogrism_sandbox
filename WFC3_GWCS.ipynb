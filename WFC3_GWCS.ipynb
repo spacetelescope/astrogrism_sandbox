{
 "cells": [
  {
   "cell_type": "code",
   "execution_count": 3,
   "metadata": {},
   "outputs": [],
   "source": [
    "import numpy as np\n",
    "from astropy.io import fits\n",
    "from astropy import coordinates as coord\n",
    "from astropy.modeling import models\n",
    "from astropy import units as u\n",
    "from astropy import wcs\n",
    "import matplotlib.pyplot as plt"
   ]
  },
  {
   "cell_type": "code",
   "execution_count": 6,
   "metadata": {},
   "outputs": [],
   "source": [
    "#from stwcs import updatewcs\n",
    "#updatewcs.updatewcs('ib6o23rsq_flt.fits')"
   ]
  },
  {
   "cell_type": "code",
   "execution_count": 7,
   "metadata": {},
   "outputs": [
    {
     "name": "stdout",
     "output_type": "stream",
     "text": [
      "Filename: C:\\Users\\space\\.astropy\\cache\\download\\url\\c9888fd91b7fb704dd07820a22b58fae\\contents\n",
      "No.    Name      Ver    Type      Cards   Dimensions   Format\n",
      "  0  PRIMARY       1 PrimaryHDU     265   ()      \n",
      "  1  SCI           1 ImageHDU       140   (1014, 1014)   float32   \n",
      "  2  ERR           1 ImageHDU        51   (1014, 1014)   float32   \n",
      "  3  DQ            1 ImageHDU        43   (1014, 1014)   int16   \n",
      "  4  SAMP          1 ImageHDU        37   (1014, 1014)   int16   \n",
      "  5  TIME          1 ImageHDU        37   (1014, 1014)   float32   \n",
      "  6  WCSCORR       1 BinTableHDU     59   7R x 24C   [40A, I, A, 24A, 24A, 24A, 24A, D, D, D, D, D, D, D, D, 24A, 24A, D, D, D, D, J, 40A, 128A]   \n"
     ]
    }
   ],
   "source": [
    "from astropy.utils.data import download_file\n",
    "fn = download_file('https://github.com/npirzkal/aXe_WFC3_Cookbook/raw/main/cookbook_data/G141/ib6o23rsq_flt.fits', cache=True)\n",
    "f = fits.open(fn)\n",
    "f.info()"
   ]
  },
  {
   "cell_type": "code",
   "execution_count": 8,
   "metadata": {},
   "outputs": [],
   "source": [
    "w=wcs.WCS(f[1].header)"
   ]
  },
  {
   "cell_type": "code",
   "execution_count": 9,
   "metadata": {},
   "outputs": [
    {
     "name": "stdout",
     "output_type": "stream",
     "text": [
      "sip: (6.2214171815060615, 9.417176540566402)\n",
      "\n",
      "SIP computes the changes relative to (0,0), while astropy.wcs computes the sip correction relative to crpix. So we need to add CRPIX-1 (0-based) to the wcs solution in order to get what SIP computes.\n",
      "\n",
      "sip_wcs: [6.22141718 9.41717654]\n",
      "crpix : [507.0, 507.0]\n"
     ]
    }
   ],
   "source": [
    "acoef = dict(f[1].header['A*'])\n",
    "a_order = acoef.pop('A_ORDER')\n",
    "bcoef = dict(f[1].header['B_*'])\n",
    "b_order = bcoef.pop('B_ORDER')\n",
    "crpix = [f[1].header['CRPIX1'], f[1].header['CRPIX2']]\n",
    "\n",
    "sip = models.SIP(np.array(crpix)-1, a_order=a_order, a_coeff=acoef, b_order=b_order, b_coeff=bcoef)\n",
    "\n",
    "print('sip:', sip(1,1))\n",
    "print('\\nSIP computes the changes relative to (0,0), '\n",
    "      'while astropy.wcs computes the sip correction relative to crpix. So we need to add '\n",
    "      'CRPIX-1 (0-based) to the wcs solution in order to get what SIP computes.\\n')\n",
    "print('sip_wcs:', w.sip_pix2foc(1, 1,0) + np.array((506, 506)))\n",
    "print('crpix :', crpix)"
   ]
  },
  {
   "cell_type": "code",
   "execution_count": 10,
   "metadata": {},
   "outputs": [
    {
     "data": {
      "text/plain": [
       "array([[ 3.61482227e-05,  9.42092248e-06],\n",
       "       [ 1.04266331e-05, -3.22558210e-05]])"
      ]
     },
     "execution_count": 10,
     "metadata": {},
     "output_type": "execute_result"
    }
   ],
   "source": [
    "crval = [f[1].header['CRVAL1'], f[1].header['CRVAL2']]\n",
    "cdmat = np.array([[f[1].header['CD1_1'], f[1].header['CD1_2']],\n",
    "                  [f[1].header['CD2_1'], f[1].header['CD2_2']]])\n",
    "cdmat"
   ]
  },
  {
   "cell_type": "code",
   "execution_count": 11,
   "metadata": {},
   "outputs": [
    {
     "data": {
      "text/plain": [
       "(6.246247528628014, 9.45461343189367)"
      ]
     },
     "execution_count": 11,
     "metadata": {},
     "output_type": "execute_result"
    }
   ],
   "source": [
    "model = sip | models.Shift(-(crpix[0]-1)) & models.Shift(-(crpix[1]-1)) | \\\n",
    "        models.AffineTransformation2D(matrix=cdmat) | models.Pix2Sky_TAN() | \\\n",
    "        models.RotateNative2Celestial(crval[0], crval[1], 180)\n",
    "sip(0,0)"
   ]
  },
  {
   "cell_type": "code",
   "execution_count": 12,
   "metadata": {},
   "outputs": [
    {
     "data": {
      "text/plain": [
       "[array(53.04785953), array(-27.69643103)]"
      ]
     },
     "execution_count": 12,
     "metadata": {},
     "output_type": "execute_result"
    }
   ],
   "source": [
    "w.all_pix2world(1,1,0)"
   ]
  },
  {
   "cell_type": "code",
   "execution_count": 13,
   "metadata": {},
   "outputs": [
    {
     "name": "stdout",
     "output_type": "stream",
     "text": [
      "crpix: [array(53.07349566), array(-27.70721824)]\n",
      "1,1:  [array(53.04745393), array(-27.69617023)]\n",
      "crpix: (53.07349565863769, -27.70721823660665)\n",
      "1,1: (53.047453934124995, -27.69617023213373)\n"
     ]
    }
   ],
   "source": [
    "# This is the Linear WCS only, without distortion\n",
    "print('crpix:', w.wcs_pix2world(crpix[0], crpix[1],1))\n",
    "print('1,1: ', w.wcs_pix2world(1,1,1))\n",
    "\n",
    "m = models.Shift(-crpix[0]) & models.Shift(-crpix[1]) | \\\n",
    "    models.AffineTransformation2D(matrix=cdmat) | models.Pix2Sky_TAN() | \\\n",
    "    models.RotateNative2Celestial(crval[0], crval[1], 180)\n",
    "print('crpix:', m(crpix[0], crpix[1]))\n",
    "print('1,1:', m(1,1))"
   ]
  },
  {
   "cell_type": "code",
   "execution_count": 14,
   "metadata": {},
   "outputs": [],
   "source": [
    "apcoef = {}\n",
    "for key in acoef:\n",
    "    apcoef['c' + key.split('A_')[1]] = acoef[key]\n",
    "    \n",
    "bpcoef = {}\n",
    "for key in bcoef:\n",
    "    bpcoef['c' + key.split('B_')[1]] = bcoef[key]\n",
    "    \n",
    "ap = models.Polynomial2D(a_order, **apcoef)\n",
    "bp = models.Polynomial2D(b_order, **bpcoef)"
   ]
  },
  {
   "cell_type": "code",
   "execution_count": 15,
   "metadata": {
    "scrolled": true
   },
   "outputs": [
    {
     "data": {
      "text/plain": [
       "(53.04780948313259, -27.69641013714909)"
      ]
     },
     "execution_count": 15,
     "metadata": {},
     "output_type": "execute_result"
    }
   ],
   "source": [
    "# And with regular Polynomials instead of SIP\n",
    "mp = models.Shift(-crpix[0]-1) & models.Shift(-crpix[1]-1) | \\\n",
    "     models.Mapping((0, 1, 0, 1)) | ap & bp | \\\n",
    "     models.AffineTransformation2D(matrix=cdmat) | models.Pix2Sky_TAN() |\\\n",
    "     models.RotateNative2Celestial(crval[0], crval[1], 180)\n",
    "model(0, 0 )"
   ]
  },
  {
   "cell_type": "code",
   "execution_count": 16,
   "metadata": {},
   "outputs": [
    {
     "data": {
      "text/plain": [
       "[array(53.04785953), array(-27.69643103)]"
      ]
     },
     "execution_count": 16,
     "metadata": {},
     "output_type": "execute_result"
    }
   ],
   "source": [
    "w.all_pix2world(1,1,0)"
   ]
  },
  {
   "cell_type": "code",
   "execution_count": 17,
   "metadata": {},
   "outputs": [],
   "source": [
    "## Comparing with plots as Iva did\n",
    "\n",
    "xx = np.arange(0,1014, 20)\n",
    "yy = np.arange(0,1014, 20)\n",
    "\n",
    "astropy_coords = w.pixel_to_world(xx, yy)\n",
    "ra_sip, dec_sip = model(xx, yy)\n",
    "ra_poly, dec_poly = mp(xx, yy)"
   ]
  },
  {
   "cell_type": "code",
   "execution_count": 18,
   "metadata": {},
   "outputs": [
    {
     "data": {
      "text/plain": [
       "array([-0.02604465, -0.02604453, -0.02604441, -0.02604429, -0.02604417,\n",
       "       -0.02604405, -0.02604393, -0.02604381, -0.0260437 , -0.02604358,\n",
       "       -0.02604346, -0.02604335, -0.02604323, -0.02604311, -0.026043  ,\n",
       "       -0.02604289, -0.02604277, -0.02604266, -0.02604254, -0.02604243,\n",
       "       -0.02604232, -0.02604221, -0.0260421 , -0.02604198, -0.02604187,\n",
       "       -0.02604176, -0.02604165, -0.02604154, -0.02604143, -0.02604132,\n",
       "       -0.02604121, -0.02604111, -0.026041  , -0.02604089, -0.02604078,\n",
       "       -0.02604067, -0.02604057, -0.02604046, -0.02604035, -0.02604024,\n",
       "       -0.02604014, -0.02604003, -0.02603992, -0.02603982, -0.02603971,\n",
       "       -0.02603961, -0.0260395 , -0.02603939, -0.02603929, -0.02603918,\n",
       "       -0.02603908])"
      ]
     },
     "execution_count": 18,
     "metadata": {},
     "output_type": "execute_result"
    }
   ],
   "source": [
    "ra_sip-ra_poly"
   ]
  },
  {
   "cell_type": "code",
   "execution_count": 19,
   "metadata": {},
   "outputs": [
    {
     "data": {
      "text/plain": [
       "[<matplotlib.lines.Line2D at 0x23ef9a62700>]"
      ]
     },
     "execution_count": 19,
     "metadata": {},
     "output_type": "execute_result"
    },
    {
     "data": {
      "image/png": "[encoded data removed]",
      "text/plain": [
       "<Figure size 720x720 with 4 Axes>"
      ]
     },
     "metadata": {
      "needs_background": "light"
     },
     "output_type": "display_data"
    }
   ],
   "source": [
    "fig, axs = plt.subplots(2,2, figsize=(10,10))\n",
    "\n",
    "axs[0,0].plot(xx, ra_sip)\n",
    "axs[0,0].plot(xx, ra_poly)\n",
    "axs[0,0].plot(xx, astropy_coords.ra.value)\n",
    "\n",
    "axs[0,1].plot(xx, ra_sip-astropy_coords.ra.value, 'o', color='black', markersize=0.5)\n",
    "axs[0,1].plot(xx, ra_sip-ra_poly, 'o', color='blue', markersize=0.5)\n",
    "\n",
    "axs[1,0].plot(yy, dec_sip)\n",
    "axs[1,0].plot(yy, dec_poly)\n",
    "axs[1,0].plot(yy, astropy_coords.dec.value)\n",
    "\n",
    "axs[1,1].plot(yy, dec_sip-astropy_coords.dec.value,  'o', color='black', markersize=0.5)\n",
    "axs[1,1].plot(yy, dec_sip-dec_poly,  'o', color='blue', markersize=0.5)"
   ]
  },
  {
   "cell_type": "code",
   "execution_count": 20,
   "metadata": {},
   "outputs": [
    {
     "data": {
      "text/plain": [
       "(array([53.04740247, 53.04843169, 53.04946091, 53.05049015, 53.05151939,\n",
       "        53.05254864, 53.0535779 , 53.05460716, 53.05563644, 53.05666572,\n",
       "        53.05769501, 53.05872431, 53.05975362, 53.06078293, 53.06181226,\n",
       "        53.06284159, 53.06387093, 53.06490028, 53.06592963, 53.066959  ,\n",
       "        53.06798837, 53.06901775, 53.07004714, 53.07107654, 53.07210595,\n",
       "        53.07313536, 53.07416478, 53.07519422, 53.07622365, 53.0772531 ,\n",
       "        53.07828256, 53.07931202, 53.08034149, 53.08137097, 53.08240046,\n",
       "        53.08342996, 53.08445946, 53.08548898, 53.0865185 , 53.08754803,\n",
       "        53.08857757, 53.08960711, 53.09063667, 53.09166623, 53.0926958 ,\n",
       "        53.09372538, 53.09475497, 53.09578456, 53.09681417, 53.09784378,\n",
       "        53.0988734 ]),\n",
       " array([-27.69614839, -27.69658517, -27.69702193, -27.69745869,\n",
       "        -27.69789544, -27.69833218, -27.69876892, -27.69920564,\n",
       "        -27.69964236, -27.70007907, -27.70051578, -27.70095248,\n",
       "        -27.70138917, -27.70182585, -27.70226252, -27.70269919,\n",
       "        -27.70313585, -27.7035725 , -27.70400914, -27.70444578,\n",
       "        -27.7048824 , -27.70531903, -27.70575564, -27.70619224,\n",
       "        -27.70662884, -27.70706543, -27.70750201, -27.70793859,\n",
       "        -27.70837516, -27.70881172, -27.70924827, -27.70968481,\n",
       "        -27.71012135, -27.71055788, -27.7109944 , -27.71143092,\n",
       "        -27.71186742, -27.71230392, -27.71274041, -27.7131769 ,\n",
       "        -27.71361337, -27.71404984, -27.7144863 , -27.71492275,\n",
       "        -27.7153592 , -27.71579564, -27.71623207, -27.71666849,\n",
       "        -27.7171049 , -27.71754131, -27.71797771]))"
      ]
     },
     "execution_count": 20,
     "metadata": {},
     "output_type": "execute_result"
    }
   ],
   "source": [
    "m(xx, yy)"
   ]
  },
  {
   "cell_type": "code",
   "execution_count": 21,
   "metadata": {},
   "outputs": [
    {
     "name": "stdout",
     "output_type": "stream",
     "text": [
      "(53.04745393550417, -27.696170233065562)\n",
      "(53.07349565863769, -27.70721823660665)\n",
      "(53.07349566001726, -27.70721823753826)\n",
      "<SkyCoord (ICRS): (ra, dec) in deg\n",
      "    (53.07354713, -27.70724007)>\n",
      "[array(53.07354713), array(-27.70724007)]\n"
     ]
    }
   ],
   "source": [
    "print(model(507, 507))\n",
    "print(m(507, 507))\n",
    "print(mp(507, 507))\n",
    "print(w.pixel_to_world(507,507))\n",
    "print(w.all_pix2world(507, 507, 0))"
   ]
  },
  {
   "cell_type": "code",
   "execution_count": 22,
   "metadata": {},
   "outputs": [
    {
     "data": {
      "text/plain": [
       "XTENSION= 'IMAGE   '           / IMAGE extension                                \n",
       "BITPIX  =                  -32                                                  \n",
       "NAXIS   =                    2                                                  \n",
       "NAXIS1  =                 1014                                                  \n",
       "NAXIS2  =                 1014                                                  \n",
       "PCOUNT  =                    0 / required keyword; must = 0                     \n",
       "GCOUNT  =                    1 / required keyword; must = 1                     \n",
       "ORIGIN  = 'HSTIO/CFITSIO March 2010'                                            \n",
       "DATE    = '2016-09-14' / date this file was written (yyyy-mm-dd)                \n",
       "INHERIT =                    T / inherit the primary header                     \n",
       "EXTNAME = 'SCI     '           / extension name                                 \n",
       "EXTVER  =                    1 / extension version number                       \n",
       "ROOTNAME= 'ib6o23rsq                         ' / rootname of the observation set\n",
       "EXPNAME = 'ib6o23rsq                ' / exposure identifier                     \n",
       "BUNIT   = 'ELECTRONS/S'        / brightness units                               \n",
       "                                                                                \n",
       "              / World Coordinate System and Related Parameters                  \n",
       "                                                                                \n",
       "WCSAXES =                    2 / number of World Coordinate System axes         \n",
       "CRPIX1  =                507.0 / x-coordinate of reference pixel                \n",
       "CRPIX2  =                507.0 / y-coordinate of reference pixel                \n",
       "CRVAL1  =     53.0734956586377 / first axis value at reference pixel            \n",
       "CRVAL2  =   -27.70721823660666 / second axis value at reference pixel           \n",
       "CTYPE1  = 'RA---TAN-SIP'       / the coordinate type for the first axis         \n",
       "CTYPE2  = 'DEC--TAN-SIP'       / the coordinate type for the second axis        \n",
       "CD1_1   = 3.61482227373837E-05 / partial of first axis coordinate w.r.t. x      \n",
       "CD1_2   = 9.42092247971798E-06 / partial of first axis coordinate w.r.t. y      \n",
       "CD2_1   = 1.04266330591494E-05 / partial of second axis coordinate w.r.t. x     \n",
       "CD2_2   = -3.2255821017724E-05 / partial of second axis coordinate w.r.t. y     \n",
       "LTV1    =        0.0000000E+00 / offset in X to subsection start                \n",
       "LTV2    =        0.0000000E+00 / offset in Y to subsection start                \n",
       "LTM1_1  =                  1.0 / reciprocal of sampling rate in X               \n",
       "LTM2_2  =                  1.0 / reciprocal of sampling rate in Y               \n",
       "PA_APER =              163.778 / Position Angle of reference aperture center (de\n",
       "VAFACTOR=   1.000051816987E+00 / velocity aberration plate scale factor         \n",
       "ORIENTAT=              163.778 / position angle of image y axis (deg. e of n)   \n",
       "RA_APER =   5.307341407653E+01 / RA of aperture reference position              \n",
       "DEC_APER=  -2.770899251213E+01 / Declination of aperture reference position     \n",
       "                                                                                \n",
       "              / REPEATED EXPOSURES INFORMATION                                  \n",
       "                                                                                \n",
       "NCOMBINE=                    1 / number of image sets combined during CR rejecti\n",
       "                                                                                \n",
       "              / READOUT DEFINITION PARAMETERS                                   \n",
       "                                                                                \n",
       "CENTERA1=                  513 / subarray axis1 center pt in unbinned dect. pix \n",
       "CENTERA2=                  513 / subarray axis2 center pt in unbinned dect. pix \n",
       "SIZAXIS1=                 1024 / subarray axis1 size in unbinned detector pixels\n",
       "SIZAXIS2=                 1024 / subarray axis2 size in unbinned detector pixels\n",
       "BINAXIS1=                    1 / axis1 data bin size in unbinned detector pixels\n",
       "BINAXIS2=                    1 / axis2 data bin size in unbinned detector pixels\n",
       "                                                                                \n",
       "              / READOUT PARAMETERS                                              \n",
       "                                                                                \n",
       "SAMPNUM =                   12 / MULTIACCUM sample number                       \n",
       "SAMPTIME=          1102.935669 / total integration time (sec)                   \n",
       "DELTATIM=           100.000313 / integration time of this sample (sec)          \n",
       "ROUTTIME=   5.510762662294E+04 / UT time of array readout (MJD)                 \n",
       "TDFTRANS=                    0 / number of TDF transitions during current sample\n",
       "                                                                                \n",
       "              / DATA PACKET INFORMATION                                         \n",
       "                                                                                \n",
       "FILLCNT =                    0 / number of segments containing fill             \n",
       "ERRCNT  =                    0 / number of segments containing errors           \n",
       "PODPSFF =                    F / podps fill present (T/F)                       \n",
       "STDCFFF =                    F / science telemetry fill data present (T=1/F=0)  \n",
       "STDCFFP = '0x5569'             / science telemetry fill pattern (hex)           \n",
       "                                                                                \n",
       "              / IMAGE STATISTICS AND DATA QUALITY FLAGS                         \n",
       "                                                                                \n",
       "NGOODPIX=              1002965 / number of good pixels                          \n",
       "SDQFLAGS=                31743 / serious data quality flags                     \n",
       "GOODMIN =       -1.5400983E+00 / minimum value of good pixels                   \n",
       "GOODMAX =        1.5517249E+02 / maximum value of good pixels                   \n",
       "GOODMEAN=        9.2970192E-01 / mean value of good pixels                      \n",
       "SNRMIN  =        1.2313307E-02 / minimum signal to noise of good pixels         \n",
       "SNRMAX  =        7.2329807E-01 / maximum signal to noise of good pixels         \n",
       "SNRMEAN =        3.6682274E-02 / mean value of signal to noise of good pixels   \n",
       "SOFTERRS=                    0 / number of soft error pixels (DQF=1)            \n",
       "MEANDARK=        2.2464146E+01 / average of the dark values subtracted          \n",
       "MEANBLEV=        1.4466604E+04 / average of all bias levels subtracted          \n",
       "RADESYS = 'ICRS    '                                                            \n",
       "OCX10   = 0.000778564193751663                                                  \n",
       "OCX11   =    0.135431244969368                                                  \n",
       "OCY10   =   0.1209636405110359                                                  \n",
       "OCY11   = -0.00041851671994663                                                  \n",
       "IDCSCALE=   0.1282500028610229                                                  \n",
       "IDCTHETA=                 45.0                                                  \n",
       "IDCXREF =                507.0                                                  \n",
       "IDCYREF =                507.0                                                  \n",
       "IDCV2REF=    1.019000053405762                                                  \n",
       "IDCV3REF=  -0.5070000290870667                                                  \n",
       "WCSNAMEO= 'OPUS    '                                                            \n",
       "WCSAXESO=                    2                                                  \n",
       "CRPIX1O =                492.0                                                  \n",
       "CRPIX2O =                557.0                                                  \n",
       "CDELT1O =                  1.0                                                  \n",
       "CDELT2O =                  1.0                                                  \n",
       "CUNIT1O = 'deg     '                                                            \n",
       "CUNIT2O = 'deg     '                                                            \n",
       "CTYPE1O = 'RA---TAN'                                                            \n",
       "CTYPE2O = 'DEC--TAN'                                                            \n",
       "CRVAL1O =       53.07341407653                                                  \n",
       "CRVAL2O =      -27.70899251213                                                  \n",
       "LONPOLEO=                180.0                                                  \n",
       "LATPOLEO=      -27.70899251213                                                  \n",
       "RADESYSO= 'ICRS    '                                                            \n",
       "CD1_1O  =          3.61933E-05                                                  \n",
       "CD1_2O  =          9.41344E-06                                                  \n",
       "CD2_1O  =          1.04347E-05                                                  \n",
       "CD2_2O  =         -3.23551E-05                                                  \n",
       "IDCTAB  = 'iref$w3m18525i_idc.fits'                                             \n",
       "B_0_3   = -2.3813607426051E-10                                                  \n",
       "B_ORDER =                    4                                                  \n",
       "A_3_0   = -2.3716200728180E-10                                                  \n",
       "B_1_2   = 6.31243430776636E-11                                                  \n",
       "A_ORDER =                    4                                                  \n",
       "B_2_2   = -1.7580091715687E-13                                                  \n",
       "A_2_1   = 1.29289254704036E-10                                                  \n",
       "A_1_1   = 2.44084308174762E-05                                                  \n",
       "A_2_2   = 2.35753629384072E-14                                                  \n",
       "A_2_0   = -2.4133465663211E-07                                                  \n",
       "A_1_3   = 5.17856894659408E-13                                                  \n",
       "B_3_1   = 5.60993015610249E-14                                                  \n",
       "A_0_2   = 5.33092691853019E-08                                                  \n",
       "B_2_1   = -3.0827896112996E-10                                                  \n",
       "A_1_2   = 2.81394789152228E-11                                                  \n",
       "A_4_0   = -2.8102976693048E-13                                                  \n",
       "A_0_4   = -2.0211147283637E-13                                                  \n",
       "B_1_1   = -1.7107385824843E-07                                                  \n",
       "B_0_4   = 7.23205168173609E-13                                                  \n",
       "B_4_0   = -5.9243852454034E-13                                                  \n",
       "A_3_1   = 5.43714947358335E-13                                                  \n",
       "B_3_0   = 3.51974158902385E-11                                                  \n",
       "B_1_3   = -5.1674434652779E-14                                                  \n",
       "B_2_0   = 6.95458963321812E-06                                                  \n",
       "A_0_3   = 3.73753772880087E-11                                                  \n",
       "B_0_2   = 2.99270373714981E-05                                                  \n",
       "WCSNAME = 'IDC_w3m18525i'                                                       \n",
       "MDRIZSKY=   0.8787192461264526 / Sky value computed by AstroDrizzle             "
      ]
     },
     "execution_count": 22,
     "metadata": {},
     "output_type": "execute_result"
    }
   ],
   "source": [
    "f[1].header"
   ]
  },
  {
   "cell_type": "code",
   "execution_count": 23,
   "metadata": {},
   "outputs": [
    {
     "data": {
      "text/plain": [
       "array([ 0.02604465,  0.02501531,  0.02398596,  0.0229566 ,  0.02192724,\n",
       "        0.02089787,  0.01986849,  0.01883911,  0.01780972,  0.01678032,\n",
       "        0.01575091,  0.01472149,  0.01369207,  0.01266264,  0.0116332 ,\n",
       "        0.01060376,  0.0095743 ,  0.00854484,  0.00751537,  0.00648589,\n",
       "        0.00545641,  0.00442692,  0.00339742,  0.00236791,  0.00133839,\n",
       "        0.00030886, -0.00072067, -0.00175021, -0.00277976, -0.00380932,\n",
       "       -0.00483889, -0.00586846, -0.00689804, -0.00792764, -0.00895724,\n",
       "       -0.00998685, -0.01101646, -0.01204609, -0.01307573, -0.01410537,\n",
       "       -0.01513502, -0.01616468, -0.01719435, -0.01822403, -0.01925372,\n",
       "       -0.02028342, -0.02131312, -0.02234284, -0.02337257, -0.0244023 ,\n",
       "       -0.02543204])"
      ]
     },
     "execution_count": 23,
     "metadata": {},
     "output_type": "execute_result"
    }
   ],
   "source": [
    "ra_diff = ra_poly-astropy_coords.ra.value\n",
    "ra_diff"
   ]
  },
  {
   "cell_type": "code",
   "execution_count": 24,
   "metadata": {},
   "outputs": [
    {
     "data": {
      "text/plain": [
       "array([-0.00102934, -0.00102935, -0.00102936, -0.00102936, -0.00102937,\n",
       "       -0.00102938, -0.00102939, -0.00102939, -0.0010294 , -0.00102941,\n",
       "       -0.00102942, -0.00102942, -0.00102943, -0.00102944, -0.00102945,\n",
       "       -0.00102945, -0.00102946, -0.00102947, -0.00102948, -0.00102948,\n",
       "       -0.00102949, -0.0010295 , -0.00102951, -0.00102952, -0.00102953,\n",
       "       -0.00102953, -0.00102954, -0.00102955, -0.00102956, -0.00102957,\n",
       "       -0.00102958, -0.00102958, -0.00102959, -0.0010296 , -0.00102961,\n",
       "       -0.00102962, -0.00102963, -0.00102964, -0.00102964, -0.00102965,\n",
       "       -0.00102966, -0.00102967, -0.00102968, -0.00102969, -0.0010297 ,\n",
       "       -0.00102971, -0.00102972, -0.00102972, -0.00102973, -0.00102974])"
      ]
     },
     "execution_count": 24,
     "metadata": {},
     "output_type": "execute_result"
    }
   ],
   "source": [
    "ra_diff[1:] - ra_diff[:-1]"
   ]
  },
  {
   "cell_type": "code",
   "execution_count": 25,
   "metadata": {},
   "outputs": [
    {
     "data": {
      "text/plain": [
       "0.0009113829043420336"
      ]
     },
     "execution_count": 25,
     "metadata": {},
     "output_type": "execute_result"
    }
   ],
   "source": [
    "cdmat[0,0]*20 + cdmat[0,1]*20"
   ]
  },
  {
   "cell_type": "code",
   "execution_count": 26,
   "metadata": {},
   "outputs": [
    {
     "data": {
      "text/plain": [
       "9.42092247971798e-06"
      ]
     },
     "execution_count": 26,
     "metadata": {},
     "output_type": "execute_result"
    }
   ],
   "source": [
    "cdmat[0,1]"
   ]
  },
  {
   "cell_type": "code",
   "execution_count": 27,
   "metadata": {},
   "outputs": [
    {
     "data": {
      "text/plain": [
       "<CompoundModel(offset_1=-506., offset_2=-506., matrix_3=[[ 0.00003615,  0.00000942], [ 0.00001043, -0.00003226]], translation_3=[0., 0.], lon_5=53.07349566, lat_5=-27.70721824, lon_pole_5=180.)>"
      ]
     },
     "execution_count": 27,
     "metadata": {},
     "output_type": "execute_result"
    }
   ],
   "source": [
    "model"
   ]
  },
  {
   "cell_type": "code",
   "execution_count": 28,
   "metadata": {},
   "outputs": [
    {
     "name": "stderr",
     "output_type": "stream",
     "text": [
      "WARNING: Models in math_functions are experimental. [astropy.modeling.math_functions]\n"
     ]
    },
    {
     "data": {
      "text/plain": [
       "(53.04780948313259, -27.69641013714909)"
      ]
     },
     "execution_count": 28,
     "metadata": {},
     "output_type": "execute_result"
    }
   ],
   "source": [
    "## Ricky's attempt at defining a model that matches the astropy WCS calculations\n",
    "\n",
    "# Repeating coefficient retrievals here\n",
    "acoef = dict(f[1].header['A*'])\n",
    "a_order = acoef.pop('A_ORDER')\n",
    "bcoef = dict(f[1].header['B_*'])\n",
    "b_order = bcoef.pop('B_ORDER')\n",
    "crpix = [f[1].header['CRPIX1'], f[1].header['CRPIX2']]\n",
    "\n",
    "mr = (models.Shift(-(crpix[0]-1)) & models.Shift(-(crpix[1]-1)) | # Calculate u and v coords\n",
    "     models.Mapping((0, 1, 0, 1, 0, 1)) | ap & bp & models.Identity(2) | # calculate f(u,v) and g(u,v)\n",
    "     models.Mapping((0, 2, 1, 3)) | models.math.AddUfunc() & models.math.AddUfunc() | # Calculate u+f(u,v) and v+g(u,v)\n",
    "     models.AffineTransformation2D(matrix=cdmat) | models.Pix2Sky_TAN() | \n",
    "     models.RotateNative2Celestial(crval[0], crval[1], 180)\n",
    "     )\n",
    "mr(0, 0)"
   ]
  },
  {
   "cell_type": "code",
   "execution_count": 29,
   "metadata": {},
   "outputs": [
    {
     "data": {
      "text/plain": [
       "[<matplotlib.lines.Line2D at 0x23ef9bb1880>]"
      ]
     },
     "execution_count": 29,
     "metadata": {},
     "output_type": "execute_result"
    },
    {
     "data": {
      "image/png": "[encoded data removed]",
      "text/plain": [
       "<Figure size 720x720 with 4 Axes>"
      ]
     },
     "metadata": {
      "needs_background": "light"
     },
     "output_type": "display_data"
    }
   ],
   "source": [
    "ra_r, dec_r = mr(xx, yy)\n",
    "\n",
    "fig, axs = plt.subplots(2,2, figsize=(10,10))\n",
    "\n",
    "axs[0,0].plot(xx, ra_r)\n",
    "axs[0,0].plot(xx, astropy_coords.ra.value)\n",
    "\n",
    "axs[0,1].plot(xx, ra_r-astropy_coords.ra.value, 'o', color='black', markersize=0.5)\n",
    "\n",
    "axs[1,0].plot(yy, dec_r)\n",
    "axs[1,0].plot(yy, astropy_coords.dec.value)\n",
    "\n",
    "axs[1,1].plot(yy, dec_r-astropy_coords.dec.value,  'o', color='black', markersize=0.5)"
   ]
  },
  {
   "cell_type": "code",
   "execution_count": null,
   "metadata": {},
   "outputs": [],
   "source": []
  }
 ],
 "metadata": {
  "kernelspec": {
   "display_name": "Python 3",
   "language": "python",
   "name": "python3"
  },
  "language_info": {
   "codemirror_mode": {
    "name": "ipython",
    "version": 3
   },
   "file_extension": ".py",
   "mimetype": "text/x-python",
   "name": "python",
   "nbconvert_exporter": "python",
   "pygments_lexer": "ipython3",
   "version": "3.8.5"
  }
 },
 "nbformat": 4,
 "nbformat_minor": 4
}
