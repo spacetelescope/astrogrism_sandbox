{
 "cells": [
  {
   "cell_type": "code",
   "execution_count": null,
   "metadata": {},
   "outputs": [],
   "source": [
    "import numpy as np\n",
    "from astropy.io import fits\n",
    "from astropy import coordinates as coord\n",
    "from astropy.modeling import models\n",
    "from astropy import units as u\n",
    "from astropy import wcs\n",
    "import matplotlib.pyplot as plt"
   ]
  },
  {
   "cell_type": "code",
   "execution_count": null,
   "metadata": {},
   "outputs": [],
   "source": [
    "#from stwcs import updatewcs\n",
    "#updatewcs.updatewcs('ib6o23rsq_flt.fits')"
   ]
  },
  {
   "cell_type": "code",
   "execution_count": null,
   "metadata": {},
   "outputs": [],
   "source": [
    "from astropy.utils.data import download_file\n",
    "fn = download_file('https://github.com/npirzkal/aXe_WFC3_Cookbook/raw/main/cookbook_data/G141/ib6o23rsq_flt.fits', cache=True)\n",
    "f = fits.open(fn)\n",
    "f.info()"
   ]
  },
  {
   "cell_type": "code",
   "execution_count": null,
   "metadata": {},
   "outputs": [],
   "source": [
    "w=wcs.WCS(f[1].header)"
   ]
  },
  {
   "cell_type": "code",
   "execution_count": null,
   "metadata": {},
   "outputs": [],
   "source": [
    "acoef = dict(f[1].header['A*'])\n",
    "a_order = acoef.pop('A_ORDER')\n",
    "bcoef = dict(f[1].header['B_*'])\n",
    "b_order = bcoef.pop('B_ORDER')\n",
    "crpix = [f[1].header['CRPIX1'], f[1].header['CRPIX2']]\n",
    "\n",
    "sip = models.SIP(np.array(crpix)-1, a_order=a_order, a_coeff=acoef, b_order=b_order, b_coeff=bcoef)\n",
    "\n",
    "print('sip:', sip(1,1))\n",
    "print('\\nSIP computes the changes relative to (0,0), '\n",
    "      'while astropy.wcs computes the sip correction relative to crpix. So we need to add '\n",
    "      'CRPIX-1 (0-based) to the wcs solution in order to get what SIP computes.\\n')\n",
    "print('sip_wcs:', w.sip_pix2foc(1, 1,0) + np.array((506, 506)))\n",
    "print('crpix :', crpix)"
   ]
  },
  {
   "cell_type": "code",
   "execution_count": null,
   "metadata": {},
   "outputs": [],
   "source": [
    "crval = [f[1].header['CRVAL1'], f[1].header['CRVAL2']]\n",
    "cdmat = np.array([[f[1].header['CD1_1'], f[1].header['CD1_2']],\n",
    "                  [f[1].header['CD2_1'], f[1].header['CD2_2']]])\n",
    "cdmat"
   ]
  },
  {
   "cell_type": "code",
   "execution_count": null,
   "metadata": {},
   "outputs": [],
   "source": [
    "model = sip | models.Shift(-(crpix[0]-1)) & models.Shift(-(crpix[1]-1)) | \\\n",
    "        models.AffineTransformation2D(matrix=cdmat) | models.Pix2Sky_TAN() | \\\n",
    "        models.RotateNative2Celestial(crval[0], crval[1], 180)\n",
    "sip(0,0)"
   ]
  },
  {
   "cell_type": "code",
   "execution_count": null,
   "metadata": {},
   "outputs": [],
   "source": [
    "w.all_pix2world(1,1,0)"
   ]
  },
  {
   "cell_type": "code",
   "execution_count": null,
   "metadata": {},
   "outputs": [],
   "source": [
    "# This is the Linear WCS only, without distortion\n",
    "print('crpix:', w.wcs_pix2world(crpix[0], crpix[1],1))\n",
    "print('1,1: ', w.wcs_pix2world(1,1,1))\n",
    "\n",
    "m = models.Shift(-crpix[0]) & models.Shift(-crpix[1]) | \\\n",
    "    models.AffineTransformation2D(matrix=cdmat) | models.Pix2Sky_TAN() | \\\n",
    "    models.RotateNative2Celestial(crval[0], crval[1], 180)\n",
    "print('crpix:', m(crpix[0], crpix[1]))\n",
    "print('1,1:', m(1,1))"
   ]
  },
  {
   "cell_type": "code",
   "execution_count": null,
   "metadata": {},
   "outputs": [],
   "source": [
    "apcoef = {}\n",
    "for key in acoef:\n",
    "    apcoef['c' + key.split('A_')[1]] = acoef[key]\n",
    "    \n",
    "bpcoef = {}\n",
    "for key in bcoef:\n",
    "    bpcoef['c' + key.split('B_')[1]] = bcoef[key]\n",
    "    \n",
    "ap = models.Polynomial2D(a_order, **apcoef)\n",
    "bp = models.Polynomial2D(b_order, **bpcoef)"
   ]
  },
  {
   "cell_type": "code",
   "execution_count": null,
   "metadata": {
    "scrolled": true
   },
   "outputs": [],
   "source": [
    "# And with regular Polynomials instead of SIP\n",
    "mp = models.Shift(-crpix[0]-1) & models.Shift(-crpix[1]-1) | \\\n",
    "     models.Mapping((0, 1, 0, 1)) | ap & bp | \\\n",
    "     models.AffineTransformation2D(matrix=cdmat) | models.Pix2Sky_TAN() |\\\n",
    "     models.RotateNative2Celestial(crval[0], crval[1], 180)\n",
    "model(0, 0 )"
   ]
  },
  {
   "cell_type": "code",
   "execution_count": null,
   "metadata": {},
   "outputs": [],
   "source": [
    "w.all_pix2world(1,1,0)"
   ]
  },
  {
   "cell_type": "code",
   "execution_count": null,
   "metadata": {},
   "outputs": [],
   "source": [
    "## Comparing with plots as Iva did\n",
    "\n",
    "xx = np.arange(0,1014, 20)\n",
    "yy = np.arange(0,1014, 20)\n",
    "\n",
    "astropy_coords = w.pixel_to_world(xx, yy)\n",
    "ra_sip, dec_sip = model(xx, yy)\n",
    "ra_poly, dec_poly = mp(xx, yy)"
   ]
  },
  {
   "cell_type": "code",
   "execution_count": null,
   "metadata": {},
   "outputs": [],
   "source": [
    "ra_sip-ra_poly"
   ]
  },
  {
   "cell_type": "code",
   "execution_count": null,
   "metadata": {},
   "outputs": [],
   "source": [
    "fig, axs = plt.subplots(2,2, figsize=(10,10))\n",
    "\n",
    "axs[0,0].plot(xx, ra_sip)\n",
    "axs[0,0].plot(xx, ra_poly)\n",
    "axs[0,0].plot(xx, astropy_coords.ra.value)\n",
    "\n",
    "axs[0,1].plot(xx, ra_sip-astropy_coords.ra.value, 'o', color='black', markersize=0.5)\n",
    "axs[0,1].plot(xx, ra_sip-ra_poly, 'o', color='blue', markersize=0.5)\n",
    "\n",
    "axs[1,0].plot(yy, dec_sip)\n",
    "axs[1,0].plot(yy, dec_poly)\n",
    "axs[1,0].plot(yy, astropy_coords.dec.value)\n",
    "\n",
    "axs[1,1].plot(yy, dec_sip-astropy_coords.dec.value,  'o', color='black', markersize=0.5)\n",
    "axs[1,1].plot(yy, dec_sip-dec_poly,  'o', color='blue', markersize=0.5)"
   ]
  },
  {
   "cell_type": "code",
   "execution_count": null,
   "metadata": {},
   "outputs": [],
   "source": [
    "m(xx, yy)"
   ]
  },
  {
   "cell_type": "code",
   "execution_count": null,
   "metadata": {},
   "outputs": [],
   "source": [
    "print(model(507, 507))\n",
    "print(m(507, 507))\n",
    "print(mp(507, 507))\n",
    "print(w.pixel_to_world(507,507))\n",
    "print(w.all_pix2world(507, 507, 0))"
   ]
  },
  {
   "cell_type": "code",
   "execution_count": null,
   "metadata": {},
   "outputs": [],
   "source": [
    "f[1].header"
   ]
  },
  {
   "cell_type": "code",
   "execution_count": null,
   "metadata": {},
   "outputs": [],
   "source": [
    "ra_diff = ra_poly-astropy_coords.ra.value\n",
    "ra_diff"
   ]
  },
  {
   "cell_type": "code",
   "execution_count": null,
   "metadata": {},
   "outputs": [],
   "source": [
    "ra_diff[1:] - ra_diff[:-1]"
   ]
  },
  {
   "cell_type": "code",
   "execution_count": null,
   "metadata": {},
   "outputs": [],
   "source": [
    "cdmat[0,0]*20 + cdmat[0,1]*20"
   ]
  },
  {
   "cell_type": "code",
   "execution_count": null,
   "metadata": {},
   "outputs": [],
   "source": [
    "cdmat[0,1]"
   ]
  },
  {
   "cell_type": "code",
   "execution_count": null,
   "metadata": {},
   "outputs": [],
   "source": [
    "model"
   ]
  },
  {
   "cell_type": "code",
   "execution_count": null,
   "metadata": {},
   "outputs": [],
   "source": [
    "## Ricky's attempt at defining a model that matches the astropy WCS calculations\n",
    "\n",
    "# Repeating coefficient retrievals here\n",
    "acoef = dict(f[1].header['A*'])\n",
    "a_order = acoef.pop('A_ORDER')\n",
    "bcoef = dict(f[1].header['B_*'])\n",
    "b_order = bcoef.pop('B_ORDER')\n",
    "crpix = [f[1].header['CRPIX1'], f[1].header['CRPIX2']]\n",
    "\n",
    "mr = (models.Shift(-(crpix[0]-1)) & models.Shift(-(crpix[1]-1)) | # Calculate u and v coords\n",
    "     models.Mapping((0, 1, 0, 1, 0, 1)) | ap & bp & models.Identity(2) | # calculate f(u,v) and g(u,v)\n",
    "     models.Mapping((0, 2, 1, 3)) | models.math.AddUfunc() & models.math.AddUfunc() | # Calculate u+f(u,v) and v+g(u,v)\n",
    "     models.AffineTransformation2D(matrix=cdmat) | models.Pix2Sky_TAN() | \n",
    "     models.RotateNative2Celestial(crval[0], crval[1], 180)\n",
    "     )\n",
    "mr(0, 0)"
   ]
  },
  {
   "cell_type": "code",
   "execution_count": null,
   "metadata": {},
   "outputs": [],
   "source": [
    "ra_r, dec_r = mr(xx, yy)\n",
    "\n",
    "fig, axs = plt.subplots(2,2, figsize=(10,10))\n",
    "\n",
    "axs[0,0].plot(xx, ra_r)\n",
    "axs[0,0].plot(xx, astropy_coords.ra.value)\n",
    "\n",
    "axs[0,1].plot(xx, ra_r-astropy_coords.ra.value, 'o', color='black', markersize=0.5)\n",
    "\n",
    "axs[1,0].plot(yy, dec_r)\n",
    "axs[1,0].plot(yy, astropy_coords.dec.value)\n",
    "\n",
    "axs[1,1].plot(yy, dec_r-astropy_coords.dec.value,  'o', color='black', markersize=0.5)"
   ]
  },
  {
   "cell_type": "code",
   "execution_count": null,
   "metadata": {},
   "outputs": [],
   "source": []
  }
 ],
 "metadata": {
  "kernelspec": {
   "display_name": "Python 3",
   "language": "python",
   "name": "python3"
  },
  "language_info": {
   "codemirror_mode": {
    "name": "ipython",
    "version": 3
   },
   "file_extension": ".py",
   "mimetype": "text/x-python",
   "name": "python",
   "nbconvert_exporter": "python",
   "pygments_lexer": "ipython3",
   "version": "3.8.5"
  }
 },
 "nbformat": 4,
 "nbformat_minor": 4
}
