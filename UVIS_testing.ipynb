{
 "cells": [
  {
   "cell_type": "code",
   "execution_count": null,
   "metadata": {},
   "outputs": [],
   "source": [
    "import pathlib\n",
    "import tempfile\n",
    "from urllib.parse import urlparse\n",
    "from urllib.request import urlretrieve\n",
    "\n",
    "import numpy as np\n",
    "import asdf\n",
    "from astropy.io import fits\n",
    "from astropy.modeling import models, fitting\n",
    "import astropy.units as u\n",
    "import matplotlib.pyplot as plt\n",
    "\n",
    "from gwcs import wcs as gwcs\n",
    "from gwcs import coordinate_frames as cf\n",
    "\n",
    "from grism_observation import GrismObs\n",
    "from HST.hst_grism_reffiles import create_tsgrism_wavelengthrange, create_grism_specwcs\n",
    "from HST.generate_wfc3_distortion import create_wfc3_distortion"
   ]
  },
  {
   "cell_type": "code",
   "execution_count": null,
   "metadata": {},
   "outputs": [],
   "source": [
    "# Try out a GrismObs for UVIS\n",
    "\n",
    "sip_file = \"/Users/rosteen/Data/UVIS/G280/icwz15e7q_flt.fits\"\n",
    "\n",
    "test = GrismObs(sip_file)\n",
    "\n",
    "print(test.geometric_transforms[\"CCD1\"].available_frames)\n",
    "\n",
    "g2d = test.geometric_transforms[\"CCD1\"].get_transform(\"grism_detector\", \"detector\")\n",
    "d2g = test.geometric_transforms[\"CCD1\"].get_transform(\"detector\", \"grism_detector\")"
   ]
  },
  {
   "cell_type": "code",
   "execution_count": null,
   "metadata": {},
   "outputs": [],
   "source": [
    "d2g(1500.0, 1500.0, 5000, 1.0)"
   ]
  },
  {
   "cell_type": "code",
   "execution_count": null,
   "metadata": {},
   "outputs": [],
   "source": [
    "g2d(1215.5599807197782, 1681.6227528517936, 1500.0, 1500.0, 1.0)"
   ]
  },
  {
   "cell_type": "code",
   "execution_count": null,
   "metadata": {},
   "outputs": [],
   "source": [
    "g2w = test.geometric_transforms[\"CCD1\"].get_transform(\"grism_detector\", \"world\")\n",
    "w2g = test.geometric_transforms[\"CCD1\"].get_transform(\"world\", \"grism_detector\")"
   ]
  },
  {
   "cell_type": "code",
   "execution_count": null,
   "metadata": {},
   "outputs": [],
   "source": [
    "w2g(206.4318333333, 26.41859444444, 3000, 1.0)"
   ]
  },
  {
   "cell_type": "code",
   "execution_count": null,
   "metadata": {},
   "outputs": [],
   "source": [
    "# Well this sure looks horrible.\n",
    "g2w(1941.4204046114864,\n",
    " 1245.8273935887883,\n",
    " 2047.2667314355476,\n",
    " 1070.8144590508862,\n",
    " 1.0)"
   ]
  },
  {
   "cell_type": "code",
   "execution_count": null,
   "metadata": {},
   "outputs": [],
   "source": [
    "d2w = test.geometric_transforms[\"CCD1\"].get_transform(\"detector\", \"world\")\n",
    "w2d = test.geometric_transforms[\"CCD1\"].get_transform(\"world\", \"detector\")"
   ]
  },
  {
   "cell_type": "code",
   "execution_count": null,
   "metadata": {
    "scrolled": true
   },
   "outputs": [],
   "source": [
    "test.grism_header"
   ]
  },
  {
   "cell_type": "code",
   "execution_count": null,
   "metadata": {},
   "outputs": [],
   "source": [
    "w2d(206.4318333333, 26.41859444444, 6000, 1.0)"
   ]
  },
  {
   "cell_type": "code",
   "execution_count": null,
   "metadata": {},
   "outputs": [],
   "source": [
    "d2w(2047.2667314355476, 1070.8144590508862, 6000.0, 1.0)"
   ]
  },
  {
   "cell_type": "markdown",
   "metadata": {},
   "source": [
    "#### To compare with GRISMCONF"
   ]
  },
  {
   "cell_type": "code",
   "execution_count": null,
   "metadata": {},
   "outputs": [],
   "source": [
    "from grismconf import Config\n",
    "\n",
    "C = Config(\"/Users/rosteen/projects/GRISM_WFC3/UVIS/UVIS_G280_CCD1_V2.conf\")"
   ]
  },
  {
   "cell_type": "code",
   "execution_count": null,
   "metadata": {},
   "outputs": [],
   "source": [
    "w0,w1 = C.WRANGE[\"+1\"] # wav range of order\n",
    "print(w0, w1)"
   ]
  },
  {
   "cell_type": "code",
   "execution_count": null,
   "metadata": {},
   "outputs": [],
   "source": [
    "t0,t1 = C.INVDISPL(\"+1\",1500,1500,[w0,w1]) #  validd ts  values for order\n",
    "print(t0, t1)"
   ]
  },
  {
   "cell_type": "code",
   "execution_count": null,
   "metadata": {},
   "outputs": [],
   "source": [
    "xs = [C.DISPX(\"+1\",1500,1500,x) for x in np.arange(t0,t1,0.01)]\n",
    "lam = [C.DISPL(\"+1\",1500,1500,x) for x in np.arange(t0,t1,0.01)]\n",
    "plt.plot(xs,lam)"
   ]
  },
  {
   "cell_type": "code",
   "execution_count": null,
   "metadata": {},
   "outputs": [],
   "source": [
    "import asdf\n",
    "from HST.dispersion_models import DISPXY_Extension\n",
    "\n",
    "asdf.get_config().add_extension(DISPXY_Extension())\n",
    "\n",
    "specwcs = asdf.open(\"config/HST/WFC3_G280_CCD1_specwcs.asdf\").tree\n",
    "\n",
    "lmodel = specwcs['displ'][0]\n",
    "\n",
    "l = lmodel.evaluate(1500, 1500, np.arange(t0,t1,0.01))\n",
    "plt.plot(xs, l)"
   ]
  },
  {
   "cell_type": "code",
   "execution_count": null,
   "metadata": {},
   "outputs": [],
   "source": []
  }
 ],
 "metadata": {
  "kernelspec": {
   "display_name": "Python 3",
   "language": "python",
   "name": "python3"
  },
  "language_info": {
   "codemirror_mode": {
    "name": "ipython",
    "version": 3
   },
   "file_extension": ".py",
   "mimetype": "text/x-python",
   "name": "python",
   "nbconvert_exporter": "python",
   "pygments_lexer": "ipython3",
   "version": "3.9.0"
  }
 },
 "nbformat": 4,
 "nbformat_minor": 4
}
