{
 "cells": [
  {
   "cell_type": "code",
   "execution_count": 1,
   "metadata": {
    "ExecuteTime": {
     "end_time": "2021-06-30T14:21:29.158418Z",
     "start_time": "2021-06-30T14:21:26.676369Z"
    }
   },
   "outputs": [
    {
     "name": "stdout",
     "output_type": "stream",
     "text": [
      "**WARNING**: LOCAL JWST PRD VERSION PRDOPSSOC-034 DOESN'T MATCH THE CURRENT ONLINE VERSION PRDOPSSOC-036\n",
      "Please consider updating pysiaf, e.g. pip install --upgrade pysiaf or conda update pysiaf\n"
     ]
    }
   ],
   "source": [
    "import pathlib\n",
    "import tempfile\n",
    "from urllib.parse import urlparse\n",
    "from urllib.request import urlretrieve\n",
    "\n",
    "import numpy as np\n",
    "import asdf\n",
    "from astropy.io import fits\n",
    "from astropy.modeling import models, fitting\n",
    "import astropy.units as u\n",
    "\n",
    "from gwcs import wcs as gwcs\n",
    "from gwcs import coordinate_frames as cf\n",
    "\n",
    "from HST.hst_grism_reffiles import create_tsgrism_wavelengthrange, create_grism_specwcs\n",
    "from HST.generate_wfc3_distortion import create_wfc3_distortion"
   ]
  },
  {
   "cell_type": "code",
   "execution_count": null,
   "metadata": {},
   "outputs": [],
   "source": [
    "reference_files = dict()\n",
    "\n",
    "conf_filepath = \"HST/UVIS_G280_CCD1_V2.conf\"\n",
    "\n",
    "filter = \"G280\"\n",
    "\n",
    "specwcs_filename = \"WFC3_\" + str(filter) + \"_specwcs.asdf\"\n",
    "create_grism_specwcs(conffile=str(conf_filepath), pupil=filter, outname=specwcs_filename)"
   ]
  },
  {
   "cell_type": "code",
   "execution_count": null,
   "metadata": {},
   "outputs": [],
   "source": []
  },
  {
   "cell_type": "markdown",
   "metadata": {},
   "source": [
    "#### Create inverse SIP coefficients for UVIS"
   ]
  },
  {
   "cell_type": "code",
   "execution_count": 2,
   "metadata": {
    "ExecuteTime": {
     "end_time": "2021-06-30T14:21:33.939039Z",
     "start_time": "2021-06-30T14:21:33.918805Z"
    }
   },
   "outputs": [],
   "source": [
    "sip_file = \"/Users/rosteen/Data/UVIS/G280/icwz15e7q_flt.fits\"\n",
    "sip_hdus = fits.open(str(sip_file))\n",
    "\n",
    "# CCD 1\n",
    "acoef_1 = dict(sip_hdus[1].header['A_*'])\n",
    "a_order_1 = acoef_1.pop('A_ORDER')\n",
    "bcoef_1 = dict(sip_hdus[1].header['B_*'])\n",
    "b_order_1 = bcoef_1.pop('B_ORDER')\n",
    "\n",
    "# CCD 2\n",
    "acoef_2 = dict(sip_hdus[4].header['A_*'])\n",
    "a_order_2 = acoef_2.pop('A_ORDER')\n",
    "bcoef_2 = dict(sip_hdus[4].header['B_*'])\n",
    "b_order_2 = bcoef_2.pop('B_ORDER')"
   ]
  },
  {
   "cell_type": "code",
   "execution_count": 3,
   "metadata": {
    "ExecuteTime": {
     "end_time": "2021-06-30T14:21:35.039764Z",
     "start_time": "2021-06-30T14:21:35.034509Z"
    }
   },
   "outputs": [
    {
     "data": {
      "text/plain": [
       "{'A_0_2': 9.46198776524919e-08,\n",
       " 'A_0_3': 1.90387041960406e-11,\n",
       " 'A_0_4': -1.6373003756199e-14,\n",
       " 'A_1_1': -2.9709966754903e-06,\n",
       " 'A_1_2': 1.85317727498633e-11,\n",
       " 'A_1_3': 3.09103330524291e-15,\n",
       " 'A_2_0': 2.87424293769154e-06,\n",
       " 'A_2_1': -1.5590800935127e-11,\n",
       " 'A_2_2': -1.7808492046889e-14,\n",
       " 'A_3_0': 2.04158611679013e-11,\n",
       " 'A_3_1': -8.3888624793725e-16,\n",
       " 'A_4_0': 5.34875121096486e-16}"
      ]
     },
     "execution_count": 3,
     "metadata": {},
     "output_type": "execute_result"
    }
   ],
   "source": [
    "acoef_1"
   ]
  },
  {
   "cell_type": "code",
   "execution_count": 4,
   "metadata": {
    "ExecuteTime": {
     "end_time": "2021-06-30T14:21:35.277246Z",
     "start_time": "2021-06-30T14:21:35.273885Z"
    }
   },
   "outputs": [
    {
     "data": {
      "text/plain": [
       "{'A_0_2': -1.064800921188e-08,\n",
       " 'A_0_3': 2.36026897013524e-12,\n",
       " 'A_0_4': 5.07730159533929e-15,\n",
       " 'A_1_1': -2.9211535091318e-06,\n",
       " 'A_1_2': 1.99343356293459e-11,\n",
       " 'A_1_3': 1.59872109528426e-14,\n",
       " 'A_2_0': 2.84447497246753e-06,\n",
       " 'A_2_1': 5.29959356829531e-12,\n",
       " 'A_2_2': -1.2690082837373e-16,\n",
       " 'A_3_0': 7.74851553027805e-12,\n",
       " 'A_3_1': 7.6935679249928e-15,\n",
       " 'A_4_0': 2.97589767803805e-15}"
      ]
     },
     "execution_count": 4,
     "metadata": {},
     "output_type": "execute_result"
    }
   ],
   "source": [
    "acoef_2"
   ]
  },
  {
   "cell_type": "code",
   "execution_count": 5,
   "metadata": {
    "ExecuteTime": {
     "end_time": "2021-06-30T14:21:36.763287Z",
     "start_time": "2021-06-30T14:21:36.736634Z"
    }
   },
   "outputs": [
    {
     "data": {
      "text/plain": [
       "(2051, 4096)"
      ]
     },
     "execution_count": 5,
     "metadata": {},
     "output_type": "execute_result"
    }
   ],
   "source": [
    "sip_hdus[1].data.shape"
   ]
  },
  {
   "cell_type": "code",
   "execution_count": 6,
   "metadata": {
    "ExecuteTime": {
     "end_time": "2021-06-30T14:21:37.797073Z",
     "start_time": "2021-06-30T14:21:37.740851Z"
    }
   },
   "outputs": [
    {
     "name": "stdout",
     "output_type": "stream",
     "text": [
      "[[[   0    0    0 ...    0    0    0]\n",
      "  [   1    1    1 ...    1    1    1]\n",
      "  [   2    2    2 ...    2    2    2]\n",
      "  ...\n",
      "  [2048 2048 2048 ... 2048 2048 2048]\n",
      "  [2049 2049 2049 ... 2049 2049 2049]\n",
      "  [2050 2050 2050 ... 2050 2050 2050]]\n",
      "\n",
      " [[   0    1    2 ... 4093 4094 4095]\n",
      "  [   0    1    2 ... 4093 4094 4095]\n",
      "  [   0    1    2 ... 4093 4094 4095]\n",
      "  ...\n",
      "  [   0    1    2 ... 4093 4094 4095]\n",
      "  [   0    1    2 ... 4093 4094 4095]\n",
      "  [   0    1    2 ... 4093 4094 4095]]]\n"
     ]
    }
   ],
   "source": [
    "indices = np.indices((2051, 4096))\n",
    "print(indices)"
   ]
  },
  {
   "cell_type": "code",
   "execution_count": 8,
   "metadata": {
    "ExecuteTime": {
     "end_time": "2021-06-30T14:21:46.672970Z",
     "start_time": "2021-06-30T14:21:46.669481Z"
    }
   },
   "outputs": [
    {
     "data": {
      "text/plain": [
       "(2, 2051, 4096)"
      ]
     },
     "execution_count": 8,
     "metadata": {},
     "output_type": "execute_result"
    }
   ],
   "source": [
    "indices.shape"
   ]
  },
  {
   "cell_type": "code",
   "execution_count": 9,
   "metadata": {
    "ExecuteTime": {
     "end_time": "2021-06-30T14:21:46.676640Z",
     "start_time": "2021-06-30T14:21:46.674481Z"
    }
   },
   "outputs": [],
   "source": [
    "x_indices = indices[0,:]\n",
    "y_indices = indices[1,:]"
   ]
  },
  {
   "cell_type": "code",
   "execution_count": 10,
   "metadata": {
    "ExecuteTime": {
     "end_time": "2021-06-30T14:21:46.682193Z",
     "start_time": "2021-06-30T14:21:46.678280Z"
    }
   },
   "outputs": [],
   "source": [
    "a_polycoef_1 = {}\n",
    "for key in acoef_1:\n",
    "    a_polycoef_1['c' + key.split('A_')[1]] = acoef_1[key]\n",
    "\n",
    "b_polycoef_1 = {}\n",
    "for key in bcoef_1:\n",
    "    b_polycoef_1['c' + key.split('B_')[1]] = bcoef_1[key]\n",
    "    \n",
    "a_polycoef_2 = {}\n",
    "for key in acoef_2:\n",
    "    a_polycoef_2['c' + key.split('A_')[1]] = acoef_2[key]\n",
    "\n",
    "b_polycoef_2 = {}\n",
    "for key in bcoef_2:\n",
    "    b_polycoef_2['c' + key.split('B_')[1]] = bcoef_2[key]"
   ]
  },
  {
   "cell_type": "code",
   "execution_count": 11,
   "metadata": {
    "ExecuteTime": {
     "end_time": "2021-06-30T14:21:46.690790Z",
     "start_time": "2021-06-30T14:21:46.683780Z"
    }
   },
   "outputs": [],
   "source": [
    "a_poly_1 = models.Polynomial2D(a_order_1, **a_polycoef_1)\n",
    "b_poly_1 = models.Polynomial2D(b_order_1, **b_polycoef_1)\n",
    "\n",
    "a_poly_2 = models.Polynomial2D(a_order_2, **a_polycoef_2)\n",
    "b_poly_2 = models.Polynomial2D(b_order_2, **b_polycoef_2)"
   ]
  },
  {
   "cell_type": "code",
   "execution_count": 12,
   "metadata": {
    "ExecuteTime": {
     "end_time": "2021-06-30T14:21:48.355969Z",
     "start_time": "2021-06-30T14:21:46.692317Z"
    }
   },
   "outputs": [],
   "source": [
    "result_x_1 = a_poly_1(x_indices, y_indices)\n",
    "result_y_1 = b_poly_1(x_indices, y_indices)\n",
    "\n",
    "result_x_2 = a_poly_2(x_indices, y_indices)\n",
    "result_y_2 = b_poly_2(x_indices, y_indices)"
   ]
  },
  {
   "cell_type": "code",
   "execution_count": 13,
   "metadata": {
    "ExecuteTime": {
     "end_time": "2021-06-30T14:21:48.361315Z",
     "start_time": "2021-06-30T14:21:48.358045Z"
    }
   },
   "outputs": [
    {
     "data": {
      "text/plain": [
       "array([[ 0.00000000e+00,  9.46389000e-08,  3.78631558e-07, ...,\n",
       "        -1.70451320e+00, -1.70727381e+00, -1.71003705e+00],\n",
       "       [ 2.87426335e-06, -2.09149600e-09, -2.68905554e-06, ...,\n",
       "        -1.71614857e+00, -1.71891185e+00, -1.72167775e+00],\n",
       "       [ 1.14971351e-05,  5.64975526e-06, -8.19677860e-09, ...,\n",
       "        -1.72777892e+00, -1.73054486e+00, -1.73331343e+00],\n",
       "       ...,\n",
       "       [ 1.22402292e+01,  1.22340720e+01,  1.22279150e+01, ...,\n",
       "        -1.48471451e+01, -1.48560455e+01, -1.48649484e+01],\n",
       "       [ 1.22522804e+01,  1.22461202e+01,  1.22399601e+01, ...,\n",
       "        -1.48482588e+01, -1.48571625e+01, -1.48660688e+01],\n",
       "       [ 1.22643376e+01,  1.22581743e+01,  1.22520112e+01, ...,\n",
       "        -1.48493672e+01, -1.48582743e+01, -1.48671839e+01]])"
      ]
     },
     "execution_count": 13,
     "metadata": {},
     "output_type": "execute_result"
    }
   ],
   "source": [
    "result_x_1"
   ]
  },
  {
   "cell_type": "code",
   "execution_count": 14,
   "metadata": {
    "ExecuteTime": {
     "end_time": "2021-06-30T14:21:48.382944Z",
     "start_time": "2021-06-30T14:21:48.362829Z"
    }
   },
   "outputs": [
    {
     "data": {
      "text/plain": [
       "array([[ 0.00000000e+00,  9.46389000e-08,  3.78631558e-07, ...,\n",
       "        -1.70451320e+00, -1.70727381e+00, -1.71003705e+00],\n",
       "       [ 1.00000287e+00,  9.99999998e-01,  9.99997311e-01, ...,\n",
       "        -7.16148574e-01, -7.18911846e-01, -7.21677755e-01],\n",
       "       [ 2.00001150e+00,  2.00000565e+00,  1.99999999e+00, ...,\n",
       "         2.72221077e-01,  2.69455141e-01,  2.66686568e-01],\n",
       "       ...,\n",
       "       [ 2.06024023e+03,  2.06023407e+03,  2.06022792e+03, ...,\n",
       "         2.03315285e+03,  2.03314395e+03,  2.03313505e+03],\n",
       "       [ 2.06125228e+03,  2.06124612e+03,  2.06123996e+03, ...,\n",
       "         2.03415174e+03,  2.03414284e+03,  2.03413393e+03],\n",
       "       [ 2.06226434e+03,  2.06225817e+03,  2.06225201e+03, ...,\n",
       "         2.03515063e+03,  2.03514173e+03,  2.03513282e+03]])"
      ]
     },
     "execution_count": 14,
     "metadata": {},
     "output_type": "execute_result"
    }
   ],
   "source": [
    "x_indices + result_x_1"
   ]
  },
  {
   "cell_type": "code",
   "execution_count": 15,
   "metadata": {
    "ExecuteTime": {
     "end_time": "2021-06-30T14:21:48.387223Z",
     "start_time": "2021-06-30T14:21:48.384069Z"
    }
   },
   "outputs": [],
   "source": [
    "# Initialize a 5th degree 2D polynomial for fitting\n",
    "inverse_model = models.Polynomial2D(5)"
   ]
  },
  {
   "cell_type": "code",
   "execution_count": 16,
   "metadata": {
    "ExecuteTime": {
     "end_time": "2021-06-30T14:21:48.392117Z",
     "start_time": "2021-06-30T14:21:48.388213Z"
    }
   },
   "outputs": [
    {
     "data": {
      "text/plain": [
       "<Polynomial2D(5, c0_0=0., c1_0=0., c2_0=0., c3_0=0., c4_0=0., c5_0=0., c0_1=0., c0_2=0., c0_3=0., c0_4=0., c0_5=0., c1_1=0., c1_2=0., c1_3=0., c1_4=0., c2_1=0., c2_2=0., c2_3=0., c3_1=0., c3_2=0., c4_1=0.)>"
      ]
     },
     "execution_count": 16,
     "metadata": {},
     "output_type": "execute_result"
    }
   ],
   "source": [
    "inverse_model"
   ]
  },
  {
   "cell_type": "code",
   "execution_count": 17,
   "metadata": {
    "ExecuteTime": {
     "end_time": "2021-06-30T14:31:40.502082Z",
     "start_time": "2021-06-30T14:21:48.393303Z"
    }
   },
   "outputs": [
    {
     "name": "stderr",
     "output_type": "stream",
     "text": [
      "WARNING: Model is linear in parameters; consider using linear fitting methods. [astropy.modeling.fitting]\n"
     ]
    }
   ],
   "source": [
    "fitter = fitting.LevMarLSQFitter()\n",
    "\n",
    "best_fit = fitter(inverse_model, x_indices+result_x_1, y_indices+result_y_1, -result_x_1)\n",
    "x_inverse_model = best_fit\n",
    "\n",
    "best_fit = fitter(inverse_model, x_indices+result_x_1, y_indices+result_y_1, -result_y_1)\n",
    "y_inverse_model = best_fit"
   ]
  },
  {
   "cell_type": "code",
   "execution_count": 18,
   "metadata": {
    "ExecuteTime": {
     "end_time": "2021-06-30T14:31:40.508134Z",
     "start_time": "2021-06-30T14:31:40.503433Z"
    }
   },
   "outputs": [
    {
     "data": {
      "text/plain": [
       "<Polynomial2D(5, c0_0=0.00003937, c1_0=-0.00000007, c2_0=-0.00000287, c3_0=-0., c4_0=-0., c5_0=0., c0_1=-0.00000029, c0_2=-0.00000009, c0_3=-0., c0_4=0., c0_5=0., c1_1=0.00000297, c1_2=0., c1_3=-0., c1_4=-0., c2_1=-0., c2_2=0., c2_3=0., c3_1=0., c3_2=-0., c4_1=-0.)>"
      ]
     },
     "execution_count": 18,
     "metadata": {},
     "output_type": "execute_result"
    }
   ],
   "source": [
    "x_inverse_model"
   ]
  },
  {
   "cell_type": "code",
   "execution_count": 19,
   "metadata": {
    "ExecuteTime": {
     "end_time": "2021-06-30T14:31:40.514002Z",
     "start_time": "2021-06-30T14:31:40.509360Z"
    }
   },
   "outputs": [
    {
     "data": {
      "text/plain": [
       "<Polynomial2D(5, c0_0=-0.00000043, c1_0=0.00000002, c2_0=0.00000004, c3_0=-0., c4_0=-0., c5_0=0., c0_1=-0.00000001, c0_2=0.00000308, c0_3=-0., c0_4=-0., c0_5=-0., c1_1=-0.00000282, c1_2=-0., c1_3=0., c1_4=0., c2_1=-0., c2_2=-0., c2_3=-0., c3_1=-0., c3_2=0., c4_1=-0.)>"
      ]
     },
     "execution_count": 19,
     "metadata": {},
     "output_type": "execute_result"
    }
   ],
   "source": [
    "y_inverse_model"
   ]
  },
  {
   "cell_type": "code",
   "execution_count": 20,
   "metadata": {
    "ExecuteTime": {
     "end_time": "2021-06-30T14:31:41.052558Z",
     "start_time": "2021-06-30T14:31:40.515118Z"
    }
   },
   "outputs": [
    {
     "data": {
      "text/plain": [
       "array([[ 3.93653010e-05,  3.89786389e-05,  3.84037960e-05, ...,\n",
       "         1.70458127e+00,  1.70734243e+00,  1.71010623e+00],\n",
       "       [ 3.64231529e-05,  3.90077474e-05,  4.14041235e-05, ...,\n",
       "         1.71621653e+00,  1.71898036e+00,  1.72174683e+00],\n",
       "       [ 2.77325104e-05,  3.32883923e-05,  3.86560184e-05, ...,\n",
       "         1.72784678e+00,  1.73061327e+00,  1.73338240e+00],\n",
       "       ...,\n",
       "       [-1.22401934e+01, -1.22340365e+01, -1.22278798e+01, ...,\n",
       "         1.48471893e+01,  1.48560900e+01,  1.48649933e+01],\n",
       "       [-1.22522446e+01, -1.22460846e+01, -1.22399248e+01, ...,\n",
       "         1.48483030e+01,  1.48572071e+01,  1.48661137e+01],\n",
       "       [-1.22643017e+01, -1.22581388e+01, -1.22519759e+01, ...,\n",
       "         1.48494115e+01,  1.48583189e+01,  1.48672289e+01]])"
      ]
     },
     "execution_count": 20,
     "metadata": {},
     "output_type": "execute_result"
    }
   ],
   "source": [
    "x_inverse_model(x_indices+result_x_1, y_indices+result_y_1)"
   ]
  },
  {
   "cell_type": "code",
   "execution_count": 21,
   "metadata": {
    "ExecuteTime": {
     "end_time": "2021-06-30T14:31:41.610416Z",
     "start_time": "2021-06-30T14:31:41.055111Z"
    }
   },
   "outputs": [
    {
     "data": {
      "text/plain": [
       "6.917971317910165e-05"
      ]
     },
     "execution_count": 21,
     "metadata": {},
     "output_type": "execute_result"
    }
   ],
   "source": [
    "(x_inverse_model(x_indices+result_x_1, y_indices+result_y_1) + result_x_1).max()"
   ]
  },
  {
   "cell_type": "code",
   "execution_count": 22,
   "metadata": {
    "ExecuteTime": {
     "end_time": "2021-06-30T14:31:42.133000Z",
     "start_time": "2021-06-30T14:31:41.612134Z"
    }
   },
   "outputs": [
    {
     "data": {
      "text/plain": [
       "1.1541708708762144e-05"
      ]
     },
     "execution_count": 22,
     "metadata": {},
     "output_type": "execute_result"
    }
   ],
   "source": [
    "(y_inverse_model(x_indices+result_x_1, y_indices+result_y_1) + result_y_1).max()"
   ]
  },
  {
   "cell_type": "code",
   "execution_count": null,
   "metadata": {
    "ExecuteTime": {
     "start_time": "2021-06-30T14:21:46.691Z"
    }
   },
   "outputs": [],
   "source": [
    "fitter = fitting.LevMarLSQFitter()\n",
    "\n",
    "best_fit = fitter(inverse_model, x_indices+result_x_2, y_indices+result_y_2, -result_x_2)\n",
    "x_inverse_model_2 = best_fit\n",
    "\n",
    "best_fit = fitter(inverse_model, x_indices+result_x_2, y_indices+result_y_2, -result_y_2)\n",
    "y_inverse_model_2 = best_fit"
   ]
  },
  {
   "cell_type": "code",
   "execution_count": null,
   "metadata": {
    "ExecuteTime": {
     "start_time": "2021-06-30T14:21:46.692Z"
    }
   },
   "outputs": [],
   "source": [
    "# Testing to see if this actually worked...\n",
    "\n",
    "crpix = [sip_hdus[1].header['CRPIX1'], sip_hdus[1].header['CRPIX2']]\n",
    "\n",
    "crval = [sip_hdus[1].header['CRVAL1'],\n",
    "         sip_hdus[1].header['CRVAL2']]\n",
    "\n",
    "cdmat = np.array([[sip_hdus[1].header['CD1_1'], sip_hdus[1].header['CD1_2']],\n",
    "                  [sip_hdus[1].header['CD2_1'], sip_hdus[1].header['CD2_2']]])\n",
    "\n",
    "SIP_forward = (models.Shift(-(crpix[0]-1)) & models.Shift(-(crpix[1]-1)) | # Calculate u and v\n",
    "              models.Mapping((0, 1, 0, 1, 0, 1)) | a_poly_1 & b_poly_1 & models.Identity(2) |\n",
    "              models.Mapping((0, 2, 1, 3)) | models.math.AddUfunc() & models.math.AddUfunc() |\n",
    "              models.AffineTransformation2D(matrix=cdmat) | models.Pix2Sky_TAN() |\n",
    "              models.RotateNative2Celestial(crval[0], crval[1], 180))\n",
    "\n",
    "SIP_backward = (models.RotateCelestial2Native(crval[0], crval[1], 180) |\n",
    "             models.Sky2Pix_TAN() | models.AffineTransformation2D(matrix=cdmat).inverse |\n",
    "             models.Mapping((0, 1, 0, 1, 0, 1)) | x_inverse_model & y_inverse_model & models.Identity(2) |\n",
    "             models.Mapping((0, 2, 1, 3)) | models.math.AddUfunc() & models.math.AddUfunc() |\n",
    "             models.Shift((crpix[0]-1)) & models.Shift((crpix[1]-1)))\n",
    "\n",
    "full_distortion_model = SIP_forward\n",
    "full_distortion_model.inverse = SIP_backward\n",
    "\n",
    "imagepipe = []\n",
    "\n",
    "det_frame = cf.Frame2D(name=\"detector\")\n",
    "imagepipe.append((det_frame, full_distortion_model))\n",
    "world_frame = cf.CelestialFrame(name=\"world\", unit = (u.Unit(\"deg\"), u.Unit(\"deg\")),\n",
    "                                axes_names=('lon', 'lat'), axes_order=(0, 1),\n",
    "                                reference_frame=\"ICRS\")\n",
    "imagepipe.append((world_frame, None))\n",
    "geo_transforms = gwcs.WCS(imagepipe)"
   ]
  },
  {
   "cell_type": "code",
   "execution_count": null,
   "metadata": {
    "ExecuteTime": {
     "start_time": "2021-06-30T14:21:46.693Z"
    }
   },
   "outputs": [],
   "source": [
    "geo_transforms.available_frames"
   ]
  },
  {
   "cell_type": "code",
   "execution_count": null,
   "metadata": {
    "ExecuteTime": {
     "start_time": "2021-06-30T14:21:46.696Z"
    }
   },
   "outputs": [],
   "source": [
    "forward = geo_transforms.get_transform(\"detector\", \"world\")"
   ]
  },
  {
   "cell_type": "code",
   "execution_count": null,
   "metadata": {
    "ExecuteTime": {
     "start_time": "2021-06-30T14:21:46.697Z"
    }
   },
   "outputs": [],
   "source": [
    "backward = geo_transforms.get_transform(\"world\", \"detector\")"
   ]
  },
  {
   "cell_type": "code",
   "execution_count": null,
   "metadata": {
    "ExecuteTime": {
     "start_time": "2021-06-30T14:21:46.698Z"
    }
   },
   "outputs": [],
   "source": [
    "forward(2048, 1026)"
   ]
  },
  {
   "cell_type": "code",
   "execution_count": null,
   "metadata": {
    "ExecuteTime": {
     "start_time": "2021-06-30T14:21:46.700Z"
    }
   },
   "outputs": [],
   "source": [
    "backward(206.43128029664106, 26.4186090137141)"
   ]
  },
  {
   "cell_type": "code",
   "execution_count": null,
   "metadata": {
    "ExecuteTime": {
     "start_time": "2021-06-30T14:21:46.701Z"
    }
   },
   "outputs": [],
   "source": [
    "# Now test the models for CCD2\n",
    "\n",
    "crpix = [sip_hdus[4].header['CRPIX1'], sip_hdus[4].header['CRPIX2']]\n",
    "\n",
    "crval = [sip_hdus[4].header['CRVAL1'],\n",
    "         sip_hdus[4].header['CRVAL2']]\n",
    "\n",
    "cdmat = np.array([[sip_hdus[4].header['CD1_1'], sip_hdus[4].header['CD1_2']],\n",
    "                  [sip_hdus[4].header['CD2_1'], sip_hdus[4].header['CD2_2']]])\n",
    "\n",
    "SIP_forward = (models.Shift(-(crpix[0]-1)) & models.Shift(-(crpix[1]-1)) | # Calculate u and v\n",
    "              models.Mapping((0, 1, 0, 1, 0, 1)) | a_poly_2 & b_poly_2 & models.Identity(2) |\n",
    "              models.Mapping((0, 2, 1, 3)) | models.math.AddUfunc() & models.math.AddUfunc() |\n",
    "              models.AffineTransformation2D(matrix=cdmat) | models.Pix2Sky_TAN() |\n",
    "              models.RotateNative2Celestial(crval[0], crval[1], 180))\n",
    "\n",
    "SIP_backward = (models.RotateCelestial2Native(crval[0], crval[1], 180) |\n",
    "             models.Sky2Pix_TAN() | models.AffineTransformation2D(matrix=cdmat).inverse |\n",
    "             models.Mapping((0, 1, 0, 1, 0, 1)) | x_inverse_model_2 & y_inverse_model_2 & models.Identity(2) |\n",
    "             models.Mapping((0, 2, 1, 3)) | models.math.AddUfunc() & models.math.AddUfunc() |\n",
    "             models.Shift((crpix[0]-1)) & models.Shift((crpix[1]-1)))\n",
    "\n",
    "full_distortion_model = SIP_forward\n",
    "full_distortion_model.inverse = SIP_backward\n",
    "\n",
    "imagepipe = []\n",
    "\n",
    "det_frame = cf.Frame2D(name=\"detector\")\n",
    "imagepipe.append((det_frame, full_distortion_model))\n",
    "world_frame = cf.CelestialFrame(name=\"world\", unit = (u.Unit(\"deg\"), u.Unit(\"deg\")),\n",
    "                                axes_names=('lon', 'lat'), axes_order=(0, 1),\n",
    "                                reference_frame=\"ICRS\")\n",
    "imagepipe.append((world_frame, None))\n",
    "geo_transforms = gwcs.WCS(imagepipe)"
   ]
  },
  {
   "cell_type": "code",
   "execution_count": null,
   "metadata": {
    "ExecuteTime": {
     "start_time": "2021-06-30T14:21:46.702Z"
    }
   },
   "outputs": [],
   "source": [
    "forward = geo_transforms.get_transform(\"detector\", \"world\")\n",
    "backward = geo_transforms.get_transform(\"world\", \"detector\")"
   ]
  },
  {
   "cell_type": "code",
   "execution_count": null,
   "metadata": {
    "ExecuteTime": {
     "start_time": "2021-06-30T14:21:46.704Z"
    }
   },
   "outputs": [],
   "source": [
    "forward(2048, 1026)"
   ]
  },
  {
   "cell_type": "code",
   "execution_count": null,
   "metadata": {
    "ExecuteTime": {
     "start_time": "2021-06-30T14:21:46.705Z"
    }
   },
   "outputs": [],
   "source": [
    "backward(206.4568554451976, 26.418285311669543)"
   ]
  },
  {
   "cell_type": "code",
   "execution_count": null,
   "metadata": {
    "ExecuteTime": {
     "start_time": "2021-06-30T14:21:46.706Z"
    }
   },
   "outputs": [],
   "source": [
    "x_inverse_model_2"
   ]
  },
  {
   "cell_type": "code",
   "execution_count": null,
   "metadata": {},
   "outputs": [],
   "source": []
  }
 ],
 "metadata": {
  "kernelspec": {
   "display_name": "Python 3",
   "language": "python",
   "name": "python3"
  },
  "language_info": {
   "codemirror_mode": {
    "name": "ipython",
    "version": 3
   },
   "file_extension": ".py",
   "mimetype": "text/x-python",
   "name": "python",
   "nbconvert_exporter": "python",
   "pygments_lexer": "ipython3",
   "version": "3.9.0"
  }
 },
 "nbformat": 4,
 "nbformat_minor": 4
}
