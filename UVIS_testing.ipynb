{
 "cells": [
  {
   "cell_type": "code",
   "execution_count": null,
   "metadata": {},
   "outputs": [],
   "source": [
    "import pathlib\n",
    "import tempfile\n",
    "from urllib.parse import urlparse\n",
    "from urllib.request import urlretrieve\n",
    "\n",
    "import numpy as np\n",
    "import asdf\n",
    "from astropy.io import fits\n",
    "from astropy.modeling import models, fitting\n",
    "import astropy.units as u\n",
    "import matplotlib.pyplot as plt\n",
    "\n",
    "from gwcs import wcs as gwcs\n",
    "from gwcs import coordinate_frames as cf\n",
    "\n",
    "from grism_observation import GrismObs\n",
    "from HST.hst_grism_reffiles import create_tsgrism_wavelengthrange, create_grism_specwcs\n",
    "from HST.generate_wfc3_distortion import create_wfc3_distortion"
   ]
  },
  {
   "cell_type": "code",
   "execution_count": null,
   "metadata": {
    "scrolled": false
   },
   "outputs": [],
   "source": [
    "reference_files = dict()\n",
    "\n",
    "conf_filepath = \"HST/UVIS_G280_CCD1_V2.conf\"\n",
    "\n",
    "filter = \"G280\"\n",
    "\n",
    "specwcs_filename = \"WFC3_\" + str(filter) + \"_specwcs.asdf\"\n",
    "create_grism_specwcs(conffile=str(conf_filepath), pupil=filter, outname=specwcs_filename)"
   ]
  },
  {
   "cell_type": "code",
   "execution_count": null,
   "metadata": {},
   "outputs": [],
   "source": []
  },
  {
   "cell_type": "markdown",
   "metadata": {},
   "source": [
    "#### Create inverse SIP coefficients for UVIS"
   ]
  },
  {
   "cell_type": "code",
   "execution_count": null,
   "metadata": {},
   "outputs": [],
   "source": [
    "sip_file = \"/Users/rosteen/Data/UVIS/G280/icwz15e7q_flt.fits\"\n",
    "sip_hdus = fits.open(str(sip_file))\n",
    "\n",
    "# CCD 1\n",
    "acoef_1 = dict(sip_hdus[1].header['A_*'])\n",
    "a_order_1 = acoef_1.pop('A_ORDER')\n",
    "bcoef_1 = dict(sip_hdus[1].header['B_*'])\n",
    "b_order_1 = bcoef_1.pop('B_ORDER')\n",
    "\n",
    "# CCD 2\n",
    "acoef_2 = dict(sip_hdus[4].header['A_*'])\n",
    "a_order_2 = acoef_2.pop('A_ORDER')\n",
    "bcoef_2 = dict(sip_hdus[4].header['B_*'])\n",
    "b_order_2 = bcoef_2.pop('B_ORDER')"
   ]
  },
  {
   "cell_type": "code",
   "execution_count": null,
   "metadata": {},
   "outputs": [],
   "source": [
    "acoef_1"
   ]
  },
  {
   "cell_type": "code",
   "execution_count": null,
   "metadata": {},
   "outputs": [],
   "source": [
    "acoef_2"
   ]
  },
  {
   "cell_type": "code",
   "execution_count": null,
   "metadata": {},
   "outputs": [],
   "source": [
    "sip_hdus[1].data.shape"
   ]
  },
  {
   "cell_type": "code",
   "execution_count": null,
   "metadata": {},
   "outputs": [],
   "source": [
    "indices = np.indices((2051, 4096))\n",
    "print(indices)"
   ]
  },
  {
   "cell_type": "code",
   "execution_count": null,
   "metadata": {},
   "outputs": [],
   "source": [
    "indices.shape"
   ]
  },
  {
   "cell_type": "code",
   "execution_count": null,
   "metadata": {},
   "outputs": [],
   "source": [
    "x_indices = indices[0,:]\n",
    "y_indices = indices[1,:]"
   ]
  },
  {
   "cell_type": "code",
   "execution_count": null,
   "metadata": {},
   "outputs": [],
   "source": [
    "a_polycoef_1 = {}\n",
    "for key in acoef_1:\n",
    "    a_polycoef_1['c' + key.split('A_')[1]] = acoef_1[key]\n",
    "\n",
    "b_polycoef_1 = {}\n",
    "for key in bcoef_1:\n",
    "    b_polycoef_1['c' + key.split('B_')[1]] = bcoef_1[key]\n",
    "    \n",
    "a_polycoef_2 = {}\n",
    "for key in acoef_2:\n",
    "    a_polycoef_2['c' + key.split('A_')[1]] = acoef_2[key]\n",
    "\n",
    "b_polycoef_2 = {}\n",
    "for key in bcoef_2:\n",
    "    b_polycoef_2['c' + key.split('B_')[1]] = bcoef_2[key]"
   ]
  },
  {
   "cell_type": "code",
   "execution_count": null,
   "metadata": {},
   "outputs": [],
   "source": [
    "a_poly_1 = models.Polynomial2D(a_order_1, **a_polycoef_1)\n",
    "b_poly_1 = models.Polynomial2D(b_order_1, **b_polycoef_1)\n",
    "\n",
    "a_poly_2 = models.Polynomial2D(a_order_2, **a_polycoef_2)\n",
    "b_poly_2 = models.Polynomial2D(b_order_2, **b_polycoef_2)"
   ]
  },
  {
   "cell_type": "code",
   "execution_count": null,
   "metadata": {},
   "outputs": [],
   "source": [
    "result_x_1 = a_poly_1(x_indices, y_indices)\n",
    "result_y_1 = b_poly_1(x_indices, y_indices)\n",
    "\n",
    "result_x_2 = a_poly_2(x_indices, y_indices)\n",
    "result_y_2 = b_poly_2(x_indices, y_indices)"
   ]
  },
  {
   "cell_type": "code",
   "execution_count": null,
   "metadata": {},
   "outputs": [],
   "source": [
    "result_x_1"
   ]
  },
  {
   "cell_type": "code",
   "execution_count": null,
   "metadata": {},
   "outputs": [],
   "source": [
    "x_indices + result_x_1"
   ]
  },
  {
   "cell_type": "code",
   "execution_count": null,
   "metadata": {},
   "outputs": [],
   "source": [
    "# Initialize a 5th degree 2D polynomial for fitting\n",
    "inverse_model = models.Polynomial2D(5)"
   ]
  },
  {
   "cell_type": "code",
   "execution_count": null,
   "metadata": {},
   "outputs": [],
   "source": [
    "inverse_model"
   ]
  },
  {
   "cell_type": "code",
   "execution_count": null,
   "metadata": {},
   "outputs": [],
   "source": [
    "fitter = fitting.LevMarLSQFitter()\n",
    "\n",
    "best_fit = fitter(inverse_model, x_indices+result_x_1, y_indices+result_y_1, -result_x_1)\n",
    "x_inverse_model = best_fit\n",
    "\n",
    "best_fit = fitter(inverse_model, x_indices+result_x_1, y_indices+result_y_1, -result_y_1)\n",
    "y_inverse_model = best_fit"
   ]
  },
  {
   "cell_type": "code",
   "execution_count": null,
   "metadata": {},
   "outputs": [],
   "source": [
    "x_inverse_model"
   ]
  },
  {
   "cell_type": "code",
   "execution_count": null,
   "metadata": {},
   "outputs": [],
   "source": [
    "y_inverse_model"
   ]
  },
  {
   "cell_type": "code",
   "execution_count": null,
   "metadata": {},
   "outputs": [],
   "source": [
    "x_inverse_model(x_indices+result_x_1, y_indices+result_y_1)"
   ]
  },
  {
   "cell_type": "code",
   "execution_count": null,
   "metadata": {},
   "outputs": [],
   "source": [
    "(x_inverse_model(x_indices+result_x_1, y_indices+result_y_1) + result_x_1).max()"
   ]
  },
  {
   "cell_type": "code",
   "execution_count": null,
   "metadata": {},
   "outputs": [],
   "source": [
    "(y_inverse_model(x_indices+result_x_1, y_indices+result_y_1) + result_y_1).max()"
   ]
  },
  {
   "cell_type": "code",
   "execution_count": null,
   "metadata": {},
   "outputs": [],
   "source": [
    "fitter = fitting.LevMarLSQFitter()\n",
    "\n",
    "best_fit = fitter(inverse_model, x_indices+result_x_2, y_indices+result_y_2, -result_x_2)\n",
    "x_inverse_model_2 = best_fit\n",
    "\n",
    "best_fit = fitter(inverse_model, x_indices+result_x_2, y_indices+result_y_2, -result_y_2)\n",
    "y_inverse_model_2 = best_fit"
   ]
  },
  {
   "cell_type": "code",
   "execution_count": null,
   "metadata": {},
   "outputs": [],
   "source": [
    "# Testing to see if this actually worked...\n",
    "\n",
    "crpix = [sip_hdus[1].header['CRPIX1'], sip_hdus[1].header['CRPIX2']]\n",
    "\n",
    "crval = [sip_hdus[1].header['CRVAL1'],\n",
    "         sip_hdus[1].header['CRVAL2']]\n",
    "\n",
    "cdmat = np.array([[sip_hdus[1].header['CD1_1'], sip_hdus[1].header['CD1_2']],\n",
    "                  [sip_hdus[1].header['CD2_1'], sip_hdus[1].header['CD2_2']]])\n",
    "\n",
    "SIP_forward = (models.Shift(-(crpix[0]-1)) & models.Shift(-(crpix[1]-1)) | # Calculate u and v\n",
    "              models.Mapping((0, 1, 0, 1, 0, 1)) | a_poly_1 & b_poly_1 & models.Identity(2) |\n",
    "              models.Mapping((0, 2, 1, 3)) | models.math.AddUfunc() & models.math.AddUfunc() |\n",
    "              models.AffineTransformation2D(matrix=cdmat) | models.Pix2Sky_TAN() |\n",
    "              models.RotateNative2Celestial(crval[0], crval[1], 180))\n",
    "\n",
    "SIP_backward = (models.RotateCelestial2Native(crval[0], crval[1], 180) |\n",
    "             models.Sky2Pix_TAN() | models.AffineTransformation2D(matrix=cdmat).inverse |\n",
    "             models.Mapping((0, 1, 0, 1, 0, 1)) | x_inverse_model & y_inverse_model & models.Identity(2) |\n",
    "             models.Mapping((0, 2, 1, 3)) | models.math.AddUfunc() & models.math.AddUfunc() |\n",
    "             models.Shift((crpix[0]-1)) & models.Shift((crpix[1]-1)))\n",
    "\n",
    "full_distortion_model = SIP_forward\n",
    "full_distortion_model.inverse = SIP_backward\n",
    "\n",
    "imagepipe = []\n",
    "\n",
    "det_frame = cf.Frame2D(name=\"detector\")\n",
    "imagepipe.append((det_frame, full_distortion_model))\n",
    "world_frame = cf.CelestialFrame(name=\"world\", unit = (u.Unit(\"deg\"), u.Unit(\"deg\")),\n",
    "                                axes_names=('lon', 'lat'), axes_order=(0, 1),\n",
    "                                reference_frame=\"ICRS\")\n",
    "imagepipe.append((world_frame, None))\n",
    "geo_transforms = gwcs.WCS(imagepipe)"
   ]
  },
  {
   "cell_type": "code",
   "execution_count": null,
   "metadata": {},
   "outputs": [],
   "source": [
    "geo_transforms.available_frames"
   ]
  },
  {
   "cell_type": "code",
   "execution_count": null,
   "metadata": {},
   "outputs": [],
   "source": [
    "forward = geo_transforms.get_transform(\"detector\", \"world\")"
   ]
  },
  {
   "cell_type": "code",
   "execution_count": null,
   "metadata": {},
   "outputs": [],
   "source": [
    "backward = geo_transforms.get_transform(\"world\", \"detector\")"
   ]
  },
  {
   "cell_type": "code",
   "execution_count": null,
   "metadata": {},
   "outputs": [],
   "source": [
    "forward(2048, 1026)"
   ]
  },
  {
   "cell_type": "code",
   "execution_count": null,
   "metadata": {},
   "outputs": [],
   "source": [
    "backward(206.43128029664106, 26.4186090137141)"
   ]
  },
  {
   "cell_type": "code",
   "execution_count": null,
   "metadata": {},
   "outputs": [],
   "source": [
    "# Now test the models for CCD2\n",
    "\n",
    "crpix = [sip_hdus[4].header['CRPIX1'], sip_hdus[4].header['CRPIX2']]\n",
    "\n",
    "crval = [sip_hdus[4].header['CRVAL1'],\n",
    "         sip_hdus[4].header['CRVAL2']]\n",
    "\n",
    "cdmat = np.array([[sip_hdus[4].header['CD1_1'], sip_hdus[4].header['CD1_2']],\n",
    "                  [sip_hdus[4].header['CD2_1'], sip_hdus[4].header['CD2_2']]])\n",
    "\n",
    "SIP_forward = (models.Shift(-(crpix[0]-1)) & models.Shift(-(crpix[1]-1)) | # Calculate u and v\n",
    "              models.Mapping((0, 1, 0, 1, 0, 1)) | a_poly_2 & b_poly_2 & models.Identity(2) |\n",
    "              models.Mapping((0, 2, 1, 3)) | models.math.AddUfunc() & models.math.AddUfunc() |\n",
    "              models.AffineTransformation2D(matrix=cdmat) | models.Pix2Sky_TAN() |\n",
    "              models.RotateNative2Celestial(crval[0], crval[1], 180))\n",
    "\n",
    "SIP_backward = (models.RotateCelestial2Native(crval[0], crval[1], 180) |\n",
    "             models.Sky2Pix_TAN() | models.AffineTransformation2D(matrix=cdmat).inverse |\n",
    "             models.Mapping((0, 1, 0, 1, 0, 1)) | x_inverse_model_2 & y_inverse_model_2 & models.Identity(2) |\n",
    "             models.Mapping((0, 2, 1, 3)) | models.math.AddUfunc() & models.math.AddUfunc() |\n",
    "             models.Shift((crpix[0]-1)) & models.Shift((crpix[1]-1)))\n",
    "\n",
    "full_distortion_model = SIP_forward\n",
    "full_distortion_model.inverse = SIP_backward\n",
    "\n",
    "imagepipe = []\n",
    "\n",
    "det_frame = cf.Frame2D(name=\"detector\")\n",
    "imagepipe.append((det_frame, full_distortion_model))\n",
    "world_frame = cf.CelestialFrame(name=\"world\", unit = (u.Unit(\"deg\"), u.Unit(\"deg\")),\n",
    "                                axes_names=('lon', 'lat'), axes_order=(0, 1),\n",
    "                                reference_frame=\"ICRS\")\n",
    "imagepipe.append((world_frame, None))\n",
    "geo_transforms = gwcs.WCS(imagepipe)"
   ]
  },
  {
   "cell_type": "code",
   "execution_count": null,
   "metadata": {},
   "outputs": [],
   "source": [
    "forward = geo_transforms.get_transform(\"detector\", \"world\")\n",
    "backward = geo_transforms.get_transform(\"world\", \"detector\")"
   ]
  },
  {
   "cell_type": "code",
   "execution_count": null,
   "metadata": {},
   "outputs": [],
   "source": [
    "forward(2048, 1026)"
   ]
  },
  {
   "cell_type": "code",
   "execution_count": null,
   "metadata": {},
   "outputs": [],
   "source": [
    "backward(206.4568554451976, 26.418285311669543)"
   ]
  },
  {
   "cell_type": "code",
   "execution_count": null,
   "metadata": {},
   "outputs": [],
   "source": [
    "x_inverse_model_2"
   ]
  },
  {
   "cell_type": "code",
   "execution_count": null,
   "metadata": {},
   "outputs": [],
   "source": [
    "y_inverse_model_2"
   ]
  },
  {
   "cell_type": "code",
   "execution_count": null,
   "metadata": {},
   "outputs": [],
   "source": [
    "y_inverse_model_2.parameters"
   ]
  },
  {
   "cell_type": "code",
   "execution_count": null,
   "metadata": {},
   "outputs": [],
   "source": [
    "y_inverse_model_2.param_names"
   ]
  },
  {
   "cell_type": "code",
   "execution_count": null,
   "metadata": {},
   "outputs": [],
   "source": [
    "getattr(y_inverse_model_2, \"c0_0\").value"
   ]
  },
  {
   "cell_type": "code",
   "execution_count": null,
   "metadata": {},
   "outputs": [],
   "source": [
    "# Loop through the models to get the inverse coefficients AP_* and BP_*\n",
    "from datetime import datetime\n",
    "ir_sip = fits.open(\"config/HST/WFC3_IR_distortion.fits\")\n",
    "\n",
    "hdus = fits.HDUList()\n",
    "hdus.append(ir_sip[0])\n",
    "hdus.append(fits.ImageHDU(header=fits.Header(), data=None))\n",
    "hdus.append(fits.ImageHDU(header=fits.Header(), data=None))\n",
    "\n",
    "hdr = hdus[0].header\n",
    "hdr[\"MADEBY\"] = \"Ricky O'Steen\"\n",
    "hdr[\"DETECTOR\"] = \"UVIS\"\n",
    "hdr[\"MADEON\"] = str(datetime.now())\n",
    "hdr[\"NCHIP\"] = 2\n",
    "hdus[0].header = hdr"
   ]
  },
  {
   "cell_type": "code",
   "execution_count": null,
   "metadata": {},
   "outputs": [],
   "source": [
    "hdus[0].header"
   ]
  },
  {
   "cell_type": "code",
   "execution_count": null,
   "metadata": {},
   "outputs": [],
   "source": [
    "# CCD 2 (comes first, in HDU 1 for some reason)\n",
    "\n",
    "hdr = hdus[1].header\n",
    "hdr[\"EXTNAME\"] = \"UVIS\"\n",
    "hdr[\"CHIPNAME\"] = \"UVIS\"\n",
    "hdr[\"CCDCHIP\"] = sip_hdus[1].header[\"CCDCHIP\"]\n",
    "\n",
    "hdr[\"A_ORDER\"] = a_order_1\n",
    "for key in acoef_1:\n",
    "    hdr[key] = acoef_1[key]\n",
    "    \n",
    "hdr[\"B_ORDER\"] = b_order_1\n",
    "for key in bcoef_1:\n",
    "    hdr[key] = bcoef_1[key]\n",
    "    \n",
    "hdr[\"AP_ORDER\"] = 5\n",
    "for param in x_inverse_model.param_names:\n",
    "    key = \"AP_{}_{}\".format(param[1], param[3])\n",
    "    hdr[key] = getattr(x_inverse_model, param).value\n",
    "    \n",
    "hdr[\"BP_ORDER\"] = 5\n",
    "for param in y_inverse_model.param_names:\n",
    "    key = \"BP_{}_{}\".format(param[1], param[3])\n",
    "    hdr[key] = getattr(y_inverse_model, param).value\n",
    "\n",
    "hdus[1].header = hdr\n",
    "\n",
    "# CCD 1 (they're in reverse order in the original file)\n",
    "\n",
    "hdr = hdus[2].header\n",
    "hdr[\"EXTNAME\"] = \"UVIS\"\n",
    "hdr[\"CHIPNAME\"] = \"UVIS\"\n",
    "hdr[\"CCDCHIP\"] = sip_hdus[4].header[\"CCDCHIP\"]\n",
    "\n",
    "hdr[\"A_ORDER\"] = a_order_2\n",
    "for key in acoef_2:\n",
    "    hdr[key] = acoef_2[key]\n",
    "    \n",
    "hdr[\"B_ORDER\"] = b_order_2\n",
    "for key in bcoef_2:\n",
    "    hdr[key] = bcoef_2[key]\n",
    "    \n",
    "hdr[\"AP_ORDER\"] = 5\n",
    "for param in x_inverse_model_2.param_names:\n",
    "    key = \"AP_{}_{}\".format(param[1], param[3])\n",
    "    hdr[key] = getattr(x_inverse_model_2, param).value\n",
    "    \n",
    "hdr[\"BP_ORDER\"] = 5\n",
    "for param in y_inverse_model_2.param_names:\n",
    "    key = \"BP_{}_{}\".format(param[1], param[3])\n",
    "    hdr[key] = getattr(y_inverse_model_2, param).value\n",
    "\n",
    "hdus[2].header = hdr"
   ]
  },
  {
   "cell_type": "code",
   "execution_count": null,
   "metadata": {},
   "outputs": [],
   "source": [
    "hdus[1].header"
   ]
  },
  {
   "cell_type": "code",
   "execution_count": null,
   "metadata": {},
   "outputs": [],
   "source": [
    "hdus[2].header"
   ]
  },
  {
   "cell_type": "code",
   "execution_count": null,
   "metadata": {},
   "outputs": [],
   "source": [
    "hdus.writeto(\"config/HST/WFC3_UVIS_distortion.fits\", overwrite=True)"
   ]
  },
  {
   "cell_type": "markdown",
   "metadata": {},
   "source": [
    "#### Testing backward and forward dispersion to confirm round trip"
   ]
  },
  {
   "cell_type": "code",
   "execution_count": null,
   "metadata": {},
   "outputs": [],
   "source": [
    "# Try out a GrismObs for UVIS with no INVDISPY defined to see if we can get anything\n",
    "\n",
    "sip_file = \"/Users/rosteen/Data/UVIS/G280/icwz15e7q_flt.fits\"\n",
    "\n",
    "test = GrismObs(sip_file)"
   ]
  },
  {
   "cell_type": "code",
   "execution_count": null,
   "metadata": {},
   "outputs": [],
   "source": [
    "import asdf\n",
    "from HST.dispersion_models import DISPXY_Extension\n",
    "\n",
    "asdf.get_config().add_extension(DISPXY_Extension())"
   ]
  },
  {
   "cell_type": "code",
   "execution_count": null,
   "metadata": {},
   "outputs": [],
   "source": [
    "specwcs = asdf.open(\"config/HST/WFC3_G280_specwcs.asdf\").tree\n",
    "print(specwcs.keys())\n",
    "print(specwcs[\"order\"])"
   ]
  },
  {
   "cell_type": "code",
   "execution_count": null,
   "metadata": {},
   "outputs": [],
   "source": [
    "temp_model = specwcs['displ'][0]\n",
    "temp_model"
   ]
  },
  {
   "cell_type": "code",
   "execution_count": null,
   "metadata": {},
   "outputs": [],
   "source": [
    "temp_model.n_inputs"
   ]
  },
  {
   "cell_type": "code",
   "execution_count": null,
   "metadata": {},
   "outputs": [],
   "source": [
    "test.geometric_transforms.available_frames"
   ]
  },
  {
   "cell_type": "code",
   "execution_count": null,
   "metadata": {},
   "outputs": [],
   "source": [
    "g2d = test.geometric_transforms.get_transform(\"grism_detector\", \"detector\")"
   ]
  },
  {
   "cell_type": "code",
   "execution_count": null,
   "metadata": {},
   "outputs": [],
   "source": [
    "d2g = test.geometric_transforms.get_transform(\"detector\", \"grism_detector\")"
   ]
  },
  {
   "cell_type": "code",
   "execution_count": null,
   "metadata": {},
   "outputs": [],
   "source": []
  },
  {
   "cell_type": "code",
   "execution_count": null,
   "metadata": {},
   "outputs": [],
   "source": [
    "g2d"
   ]
  },
  {
   "cell_type": "code",
   "execution_count": null,
   "metadata": {},
   "outputs": [],
   "source": [
    "g2d(-111.09132139180039, 281.5373678242843, 105.0, 105.0, 1.0)"
   ]
  },
  {
   "cell_type": "code",
   "execution_count": null,
   "metadata": {},
   "outputs": [],
   "source": [
    "d2g(105.0, 105.0, 4500, 1.0)"
   ]
  },
  {
   "cell_type": "code",
   "execution_count": null,
   "metadata": {},
   "outputs": [],
   "source": [
    "g2d.has_inverse()"
   ]
  },
  {
   "cell_type": "code",
   "execution_count": null,
   "metadata": {},
   "outputs": [],
   "source": [
    "d2g.has_inverse()"
   ]
  },
  {
   "cell_type": "code",
   "execution_count": null,
   "metadata": {},
   "outputs": [],
   "source": [
    "temp_model(100,100,.6)"
   ]
  },
  {
   "cell_type": "code",
   "execution_count": null,
   "metadata": {},
   "outputs": [],
   "source": [
    "temp_model = specwcs['dispx'][1]"
   ]
  },
  {
   "cell_type": "code",
   "execution_count": null,
   "metadata": {},
   "outputs": [],
   "source": [
    "temp_model(100,100,10)"
   ]
  },
  {
   "cell_type": "markdown",
   "metadata": {},
   "source": [
    "#### Sanity checking inverse X dispersion for UVIS"
   ]
  },
  {
   "cell_type": "code",
   "execution_count": null,
   "metadata": {},
   "outputs": [],
   "source": [
    "e_x = np.array((10.0, -570.0))\n",
    "e_x"
   ]
  },
  {
   "cell_type": "code",
   "execution_count": null,
   "metadata": {},
   "outputs": [],
   "source": [
    "if e_x.shape == (2,):\n",
    "    e_x = np.reshape(e_x, [2,1])\n",
    "e_x"
   ]
  },
  {
   "cell_type": "code",
   "execution_count": null,
   "metadata": {},
   "outputs": [],
   "source": [
    "e_x.shape"
   ]
  },
  {
   "cell_type": "code",
   "execution_count": null,
   "metadata": {},
   "outputs": [],
   "source": [
    "if len(e_x.shape) > 1:\n",
    "    print(e_x.shape[1] > 2)"
   ]
  },
  {
   "cell_type": "code",
   "execution_count": null,
   "metadata": {},
   "outputs": [],
   "source": [
    "offset = 0\n",
    "e = e_x\n",
    "x = 100\n",
    "y = 50\n",
    "t = -218\n",
    "coeffs = {1: np.array([1]),\n",
    "          6: np.array([1, x, y, x**2, x*y, y**2])}\n",
    "t_order = e.shape[0]\n",
    "if len(e.shape) == 1:\n",
    "    c_order = 1\n",
    "else:\n",
    "    c_order = e.shape[1]\n",
    "print(coeffs)\n",
    "print(t_order)\n",
    "print(c_order)"
   ]
  },
  {
   "cell_type": "code",
   "execution_count": null,
   "metadata": {},
   "outputs": [],
   "source": [
    "((t + offset - np.dot(coeffs[c_order], e[0,:])) / np.dot(coeffs[c_order], e[1,:]))"
   ]
  },
  {
   "cell_type": "code",
   "execution_count": null,
   "metadata": {},
   "outputs": [],
   "source": [
    "f = 0\n",
    "t = 0.4\n",
    "for i in range(0, t_order):\n",
    "    f += t**i * (np.dot(coeffs[c_order], e[i,:]))\n",
    "print(f)"
   ]
  },
  {
   "cell_type": "markdown",
   "metadata": {},
   "source": [
    "Well, that seems to round trip correctly between dx and t. So the problem isn't there. "
   ]
  },
  {
   "cell_type": "code",
   "execution_count": null,
   "metadata": {},
   "outputs": [],
   "source": [
    "lmodel = temp_model"
   ]
  },
  {
   "cell_type": "code",
   "execution_count": null,
   "metadata": {},
   "outputs": [],
   "source": [
    "lmodel(100, 50, 0.4)"
   ]
  },
  {
   "cell_type": "code",
   "execution_count": null,
   "metadata": {},
   "outputs": [],
   "source": [
    "lmodel.ematrix.shape"
   ]
  },
  {
   "cell_type": "markdown",
   "metadata": {},
   "source": [
    "#### It seems like split_order_info is dropping higher orders in t, investigating:"
   ]
  },
  {
   "cell_type": "code",
   "execution_count": null,
   "metadata": {},
   "outputs": [],
   "source": [
    "keydict = {'NAXIS': (4096, 2048), 'DISPL_+1_0': (1247.907, 0.1715171, 0.4014437, 4.60608e-06, -0.0002067114, 1.051219e-05), 'DISPL_+1_1': (16183.52, -5.25768, -12.41063, -8.086326e-05, 0.0063084, -0.0002608619), 'DISPL_+1_2': (-94033.28, 52.1532, 113.8204, 0.0002302944, -0.05746772, 0.001580457), 'DISPL_+1_3': (369916.3, -195.763, -417.8535, 0.000160051, 0.2091686, -0.003993138), 'DISPL_+1_4': (-592296.5, 307.5212, 648.8591, -0.001038922, -0.3231617, 0.004620623), 'DISPL_+1_5': (327729.5, -168.2244, -353.9009, 0.0006380609, 0.1757735, -0.002072159), 'DISPX_+1_0': 10.0, 'DISPX_+1_1': -570.0, 'DISPY_+1_0': (199.1281, -0.002073556, 0.007069947, 7.430371e-08, -5.304913e-07, -1.286096e-06), 'DISPY_+1_1': (-176.623, -0.04297293, -0.1854369, 2.078917e-06, 4.561426e-05, 4.474414e-05), 'DISPY_+1_2': (96.46943, 0.3552698, 1.989722, -1.063473e-05, -0.0005489048, -0.0004790314), 'DISPY_+1_3': (2448.071, -1.083281, -9.225543, 6.593498e-05, 0.003044477, 0.002626904), 'DISPY_+1_4': (-9312.729, 0.9810426, 19.87687, -0.0005298376, -0.009131209, -0.008037482), 'DISPY_+1_5': (17329.54, 2.076095, -12.74858, 0.002099644, 0.01501813, 0.01349792), 'DISPY_+1_6': (-22863.98, -6.765774, -20.1584, -0.003786586, -0.01120987, -0.01117688), 'DISPY_+1_7': (22666.73, 6.63481, 26.92799, 0.002336442, -0.0006700353, 0.003283768), 'DISPY_+1_8': (-3105.089, 2.521005, 14.0929, 0.001538533, 0.00306462, -0.0005739407), 'DISPY_+1_9': (-24780.85, -10.98437, -22.67926, -0.002123915, 0.00537769, 0.001402719), 'DISPY_+1_10': (11342.89, 3.72694, -14.05894, -0.0005578266, -0.005013537, -0.002728773), 'DISPY_+1_11': (29798.37, 11.56107, 16.60022, 0.001130154, -0.004212057, 0.007544599), 'DISPY_+1_12': (-33431.68, -13.33704, 4.525097, 9.792405e-05, 0.006175275, -0.008287286), 'DISPY_+1_13': (9974.387, 4.360017, -4.950169, -0.000262393, -0.001940865, 0.002881733), 'DISPL_+2_0': (2024.832, -0.2083087, -0.3514176, 1.358243e-05, 0.0001676521, 3.734842e-06), 'DISPL_+2_1': (-1111.281, 2.246752, 3.163863, -0.0001426102, -0.001627307, 1.358261e-05), 'DISPL_+2_2': (11591.32, -6.665012, -9.389449, 0.0004553896, 0.004905473, -0.0001097879), 'DISPL_+2_3': (-11690.4, 6.977159, 9.703328, -0.0004778925, -0.005134452, 0.0001640513), 'DISPX_+2_0': -110.0, 'DISPX_+2_1': -440.0, 'DISPY_+2_0': (204.141, -0.001035233, 0.005817347, -4.270251e-07, -3.155895e-07, -9.469504e-07), 'DISPY_+2_1': (-150.8561, -0.07765548, 0.05642477, 2.473683e-05, -3.195813e-06, -2.229836e-06), 'DISPY_+2_2': (1191.992, 1.319842, -1.778713, -0.0004181253, 0.0001586993, 0.0003081203), 'DISPY_+2_3': (-6940.575, -11.84139, 15.85926, 0.003396008, -0.0007767892, -0.003469559), 'DISPY_+2_4': (19694.26, 59.88403, -67.57421, -0.01528851, -0.0007811398, 0.01741981), 'DISPY_+2_5': (-23600.21, -174.6648, 164.5273, 0.04041565, 0.01360129, -0.04932173), 'DISPY_+2_6': (-894.8858, 299.9207, -243.0514, -0.06418066, -0.0381387, 0.08370371), 'DISPY_+2_7': (29852.27, -299.1559, 216.755, 0.06019354, 0.04916766, -0.08417285), 'DISPY_+2_8': (-26690.85, 160.2556, -107.8316, -0.03071801, -0.03083378, 0.04612765), 'DISPY_+2_9': (7517.753, -35.63617, 23.04743, 0.006575413, 0.00760293, -0.01059303), 'DISPL_+3_0': (1812.834, -0.08144435, -0.1637695, 9.726739e-06, 6.464318e-05, 1.539862e-05), 'DISPL_+3_1': (501.0111, 1.173575, 1.677, -8.70214e-05, -0.0007949958, -6.536542e-05), 'DISPL_+3_2': (4678.522, -2.560219, -3.966128, 0.000163126, 0.001923605, 4.478018e-05), 'DISPX_+3_0': -230.0, 'DISPX_+3_1': -570.0, 'DISPY_+3_0': (217.2404, -0.004404165, -0.002326764, -5.134273e-08, 1.425584e-06, 1.380885e-06), 'DISPY_+3_1': (-458.1283, 0.09622443, 0.3678026, 3.681068e-06, -8.673845e-05, -6.997455e-05), 'DISPY_+3_2': (3421.222, -0.4734845, -2.917941, -0.000195094, 0.0009067482, 0.0002752907), 'DISPY_+3_3': (-10772.58, -1.583463, 7.719787, 0.001872398, -0.003793024, 0.001281324), 'DISPY_+3_4': (10845.43, 16.69144, -0.2409367, -0.007452941, 0.007001864, -0.01040463), 'DISPY_+3_5': (10811.63, -43.5201, -29.09555, 0.0143422, -0.004830692, 0.02457058), 'DISPY_+3_6': (-27786.6, 47.13105, 42.75724, -0.01324685, -0.0006884939, -0.02477995), 'DISPY_+3_7': (14184.06, -18.56394, -18.80972, 0.004716432, 0.001549921, 0.00919549), 'DISPL_+4_0': (1600.949, 0.1213913, 0.3136126, -4.082954e-06, -8.972904e-05, -0.0001056551), 'DISPL_+4_1': (1817.333, -0.4031969, -0.8642205, 1.656113e-05, 0.0003613914, 8.784479e-05), 'DISPX_+4_0': -400.0, 'DISPX_+4_1': -300.0, 'DISPY_+4_0': (210.4929, 4.920439e-05, 0.005616888, -6.255189e-07, -6.104241e-07, -4.258491e-07), 'DISPY_+4_1': (-195.1789, 0.05993905, 0.1968366, -5.779052e-06, -3.044978e-05, -4.909591e-05), 'DISPY_+4_2': (774.8928, -0.2793951, -0.852847, 3.351429e-05, 0.0001265894, 0.0002197228), 'DISPY_+4_3': (-1033.047, 0.3729296, 1.225291, -5.166284e-05, -0.0001587204, -0.0003370864), 'DISPY_+4_4': (447.3251, -0.1545797, -0.5696233, 2.530197e-05, 5.909885e-05, 0.0001701652), 'DISPL_-1_0': (1549.674, 0.112042, 0.06417442, -6.147326e-06, -5.088009e-05, -6.847407e-06), 'DISPL_-1_1': (11869.88, -1.247266, -1.489307, 0.0001672497, 0.0006572729, 0.0001935824), 'DISPL_-1_2': (-25774.4, 12.05035, 13.68945, -0.001581738, -0.006179599, -0.001627053), 'DISPL_-1_3': (83199.87, -44.74023, -52.13631, 0.006030946, 0.0230891, 0.005859683), 'DISPL_-1_4': (-121352.4, 70.31003, 81.9733, -0.009726034, -0.03591739, -0.008986659), 'DISPL_-1_5': (64076.54, -38.90405, -44.93107, 0.005525686, 0.01956408, 0.004864258), 'DISPX_-1_0': 230.0, 'DISPX_-1_1': 550.0, 'DISPY_-1_0': (188.3974, -0.003754053, 0.004924201, 4.759416e-08, 4.362399e-08, -5.989863e-07), 'DISPY_-1_1': (-613.0667, -0.0196904, -0.09794328, 6.600423e-06, -5.357835e-06, 4.602359e-05), 'DISPY_-1_2': (5133.404, 0.83428, 0.9635349, -8.6046e-05, 0.0001535844, -0.0006630445), 'DISPY_-1_3': (-27995.75, -8.547256, -4.47171, 0.0002591853, -0.001450286, 0.00407869), 'DISPY_-1_4': (94426.94, 42.75522, 10.93902, 0.001520206, 0.007474118, -0.0124392), 'DISPY_-1_5': (-191737.5, -118.9323, -18.18947, -0.01329702, -0.02470405, 0.01661289), 'DISPY_-1_6': (204827.6, 186.3674, 34.63798, 0.03979646, 0.05482801, 0.008509309), 'DISPY_-1_7': (-25571.73, -146.2479, -62.73186, -0.05463689, -0.07985152, -0.07105488), 'DISPY_-1_8': (-209032.8, 17.41713, 44.20711, 0.01989377, 0.07204076, 0.1215042), 'DISPY_-1_9': (229453.2, 60.65767, 61.53437, 0.03378501, -0.04029665, -0.08961658), 'DISPY_-1_10': (-49532.57, -54.94505, -147.3389, -0.03499904, 0.0249539, -0.009630011), 'DISPY_-1_11': (-73536.2, 37.81011, 114.5701, -0.002604193, -0.02728788, 0.07108235), 'DISPY_-1_12': (56728.44, -24.37575, -38.11669, 0.01581248, 0.01925721, -0.05054049), 'DISPY_-1_13': (-12615.01, 7.228475, 4.082948, -0.005450909, -0.005111253, 0.01211345), 'DISPL_-2_0': (1663.849, 0.04262151, -0.008425576, 1.089535e-06, -1.426305e-05, -3.244403e-06), 'DISPL_-2_1': (4192.888, 0.1979919, 0.3280327, 6.240839e-06, -0.0001375091, 3.00115e-05), 'DISPL_-2_2': (1737.929, -0.7388151, -2.889202, -0.0003364382, 0.00124591, -2.124256e-06), 'DISPL_-2_3': (-2465.904, -1.462081, 4.50913, 0.00152215, -0.002077705, -2.861282e-05), 'DISPX_-2_0': 350.0, 'DISPX_-2_1': 550.0, 'DISPY_-2_0': (179.7632, -0.003749091, 0.00308422, 7.811054e-08, -1.498714e-09, 7.437671e-08), 'DISPY_-2_1': (-284.9476, -0.0007426225, -0.04874903, 8.816693e-06, -2.309535e-05, 3.468432e-05), 'DISPY_-2_2': (1119.395, 0.1476601, 0.3157227, -0.0001268492, 0.0004291934, -0.0004920665), 'DISPY_-2_3': (-3115.988, -1.310789, -0.5050898, 0.0007984248, -0.003106123, 0.002870848), 'DISPY_-2_4': (5305.771, 5.521898, -2.561995, -0.002763279, 0.01233817, -0.009297641), 'DISPY_-2_5': (-5883.628, -12.41353, 12.67715, 0.00562105, -0.02991129, 0.01911526), 'DISPY_-2_6': (6250.749, 14.60777, -23.71703, -0.006667333, 0.04527629, -0.02601262), 'DISPY_-2_7': (-7902.364, -7.555967, 23.28939, 0.004278266, -0.04162732, 0.02253373), 'DISPY_-2_8': (6714.891, 0.1409697, -12.21075, -0.001193608, 0.02123268, -0.011062), 'DISPY_-2_9': (-2260.354, 0.8597784, 2.751915, 4.486396e-05, -0.004605215, 0.002309556), 'DISPL_-3_0': (1699.096, 0.04791965, 0.005768717, 1.349425e-06, -1.79641e-05, 2.70063e-06), 'DISPL_-3_1': (2241.699, -0.005076667, -0.06030019, -9.272839e-06, 3.117269e-05, -9.086008e-06), 'DISPL_-3_2': (-127.2566, 0.01978762, 0.02508017, 8.402054e-06, -2.274952e-05, 7.800285e-06), 'DISPX_-3_0': 475.0, 'DISPX_-3_1': 425.0, 'DISPY_-3_0': (164.4988, -0.0004179673, 0.003403746, -1.212223e-07, -1.044905e-06, 5.146071e-07), 'DISPY_-3_1': (-42.24046, -0.05480477, -0.01330544, 6.772708e-06, 7.612704e-06, -2.465134e-06), 'DISPY_-3_2': (-320.522, 0.368742, -0.1468771, -4.071e-05, 2.743191e-05, 1.537238e-05), 'DISPY_-3_3': (1358.063, -1.179057, 1.361773, 9.840595e-05, -0.000319236, -0.0001596528), 'DISPY_-3_4': (-2606.893, 2.237403, -4.580686, -0.0001216446, 0.0009657522, 0.0007606344), 'DISPY_-3_5': (2803.869, -2.708439, 7.477189, 0.0001053406, -0.001336005, -0.001593903), 'DISPY_-3_6': (-1690.183, 1.93912, -5.910014, -8.51805e-05, 0.0008800377, 0.001490757), 'DISPY_-3_7': (461.4511, -0.6149833, 1.80622, 3.882204e-05, -0.0002208068, -0.0005133015), 'DISPL_-4_0': (1842.831, 0.07204487, 0.02150832, -2.672041e-06, -2.824821e-05, 4.433913e-06), 'DISPL_-4_1': (1468.023, -0.08327019, -0.1233711, 1.624981e-06, 6.942547e-05, -1.145358e-05), 'DISPX_-4_0': 640.0, 'DISPX_-4_1': 350.0, 'DISPY_-4_0': (151.4997, -0.003560823, 0.003106131, 3.759473e-07, -4.151129e-08, -7.577361e-07), 'DISPY_-4_1': (-34.41476, 0.00876537, -0.04449884, -5.821345e-06, 6.682905e-06, 1.338941e-05), 'DISPY_-4_2': (-93.80154, 0.01014785, 0.1131061, 1.985179e-05, -5.029344e-05, -1.161397e-05), 'DISPY_-4_3': (226.5722, -0.06508698, -0.08721553, -2.932264e-05, 0.0001178812, -5.373507e-05), 'DISPY_-4_4': (-144.8692, 0.04896433, 0.01273369, 1.585546e-05, -7.752604e-05, 5.724802e-05)}"
   ]
  },
  {
   "cell_type": "code",
   "execution_count": null,
   "metadata": {},
   "outputs": [],
   "source": [
    "import re\n",
    "import numpy as np\n",
    "\n",
    "token = re.compile('^[a-zA-Z]*_(?:[+\\-]){0,1}[a-zA-Z0-9]{0,1}_*')\n",
    "rangekey = re.compile('^[a-zA-Z]*_[0-1]{1,1}$')\n",
    "rdict = dict()  # return dictionary\n",
    "beams = list()\n",
    "\n",
    "for key in keydict:\n",
    "    if key[0:5] == \"WEDGE\":\n",
    "        if \"WEDGE\" not in beams:\n",
    "            beams.append(\"WEDGE\")\n",
    "    elif token.match(key):\n",
    "        b = key.split(\"_\")[1].upper()\n",
    "        if b not in beams:\n",
    "            beams.append(b)\n",
    "for b in beams:\n",
    "    rdict[b] = dict()\n",
    "print(beams)"
   ]
  },
  {
   "cell_type": "code",
   "execution_count": null,
   "metadata": {
    "scrolled": true
   },
   "outputs": [],
   "source": [
    "for key in keydict:\n",
    "    # Again, reject WEDGE keys\n",
    "    if key[0:5] == \"WEDGE\":\n",
    "        b, fname = key.split(\"_\")\n",
    "        rdict[b][fname] = keydict[key]\n",
    "    elif token.match(key):\n",
    "        b = key.split(\"_\")[1].upper()\n",
    "        newkey = key.replace(\"_{}_\".format(b), \"_\")\n",
    "        rdict[b][newkey] = keydict[key]\n",
    "        print(f\"{key} matches token\")\n",
    "    else:\n",
    "        print(f\"{key} doesn't match token\")"
   ]
  },
  {
   "cell_type": "code",
   "execution_count": null,
   "metadata": {},
   "outputs": [],
   "source": [
    "print(rdict)"
   ]
  },
  {
   "cell_type": "code",
   "execution_count": null,
   "metadata": {},
   "outputs": [],
   "source": [
    "rangekey = re.compile('^[a-zA-Z]*_[0-1]{0,1}[0-9]{1,1}$')\n",
    "\n",
    "for b, d in rdict.items():\n",
    "    keys = d.keys()\n",
    "    rkeys = []\n",
    "    odict = {}\n",
    "    for k in keys:\n",
    "        if rangekey.match(k):\n",
    "            rkeys.append(k)\n",
    "        else:\n",
    "            print(f\"{k} doesn't match rangekey\")\n",
    "            \n",
    "    for k in rkeys:\n",
    "        mlist = [m for m in rkeys if k.split(\"_\")[0] in m]\n",
    "        print(mlist)\n",
    "        root = mlist[0].split(\"_\")[0]\n",
    "        print(root)\n",
    "        if root not in odict:\n",
    "            for mk in mlist:\n",
    "                if eval(mk[-1]) == 0:\n",
    "                    zero = d[mk]\n",
    "                elif eval(mk[-1]) == 1:\n",
    "                    one = d[mk]\n",
    "                else:\n",
    "                    print(\"Would error\")\n",
    "            odict[root] = (zero, one)\n",
    "            print(odict[root])"
   ]
  },
  {
   "cell_type": "markdown",
   "metadata": {},
   "source": [
    "That was in fact the case. It's fixed now and properly setting e.g. DISPL to a 4x6 array where appropriate"
   ]
  },
  {
   "cell_type": "code",
   "execution_count": null,
   "metadata": {},
   "outputs": [],
   "source": [
    "lmodel.evaluate(100, 50, 0.4)"
   ]
  },
  {
   "cell_type": "code",
   "execution_count": null,
   "metadata": {},
   "outputs": [],
   "source": [
    "t = np.linspace(0, 1, 40)"
   ]
  },
  {
   "cell_type": "code",
   "execution_count": null,
   "metadata": {},
   "outputs": [],
   "source": [
    "l = lmodel.evaluate(100, 500, t)\n",
    "l"
   ]
  },
  {
   "cell_type": "code",
   "execution_count": null,
   "metadata": {},
   "outputs": [],
   "source": [
    "import matplotlib.pyplot as plt\n",
    "plt.plot(l)"
   ]
  },
  {
   "cell_type": "markdown",
   "metadata": {},
   "source": [
    "#### To compare with GRISMCONF"
   ]
  },
  {
   "cell_type": "code",
   "execution_count": null,
   "metadata": {},
   "outputs": [],
   "source": [
    "from grismconf import Config"
   ]
  },
  {
   "cell_type": "code",
   "execution_count": null,
   "metadata": {},
   "outputs": [],
   "source": [
    "C = Config(\"/Users/rosteen/projects/GRISM_WFC3/UVIS/UVIS_G280_CCD1_V2.conf\")"
   ]
  },
  {
   "cell_type": "code",
   "execution_count": null,
   "metadata": {},
   "outputs": [],
   "source": [
    "w0,w1 = C.WRANGE[\"+1\"] # wav range of order\n",
    "print(w0, w1)"
   ]
  },
  {
   "cell_type": "code",
   "execution_count": null,
   "metadata": {},
   "outputs": [],
   "source": [
    "t0,t1 = C.INVDISPL(\"+1\",100,100,[w0,w1]) #  validd ts  values for order\n",
    "print(t0, t1)"
   ]
  },
  {
   "cell_type": "code",
   "execution_count": null,
   "metadata": {},
   "outputs": [],
   "source": [
    "xs = [C.DISPX(\"+1\",100,100,x) for x in np.arange(t0,t1,0.01)]\n",
    "lam = [C.DISPL(\"+1\",100,100,x) for x in np.arange(t0,t1,0.01)]\n",
    "plt.plot(xs,lam)"
   ]
  },
  {
   "cell_type": "code",
   "execution_count": null,
   "metadata": {},
   "outputs": [],
   "source": [
    "l = lmodel.evaluate(100, 100, np.arange(t0,t1,0.01))\n",
    "plt.plot(xs, l)"
   ]
  },
  {
   "cell_type": "code",
   "execution_count": null,
   "metadata": {},
   "outputs": [],
   "source": [
    "diff = np.array(lam) - l\n",
    "plt.plot(xs, diff)"
   ]
  },
  {
   "cell_type": "code",
   "execution_count": null,
   "metadata": {},
   "outputs": [],
   "source": [
    "lmodel.ematrix"
   ]
  },
  {
   "cell_type": "code",
   "execution_count": null,
   "metadata": {},
   "outputs": [],
   "source": [
    "C.orders"
   ]
  },
  {
   "cell_type": "code",
   "execution_count": null,
   "metadata": {},
   "outputs": [],
   "source": [
    "xs2 = specwcs['dispx'][0](100,100,np.arange(t0,t1,0.01))"
   ]
  },
  {
   "cell_type": "code",
   "execution_count": null,
   "metadata": {},
   "outputs": [],
   "source": [
    "plt.plot(xs2)"
   ]
  },
  {
   "cell_type": "code",
   "execution_count": null,
   "metadata": {},
   "outputs": [],
   "source": [
    "plt.plot(xs)"
   ]
  },
  {
   "cell_type": "code",
   "execution_count": null,
   "metadata": {},
   "outputs": [],
   "source": [
    "plt.plot(np.array(xs)-np.array(xs2))"
   ]
  },
  {
   "cell_type": "code",
   "execution_count": null,
   "metadata": {},
   "outputs": [],
   "source": [
    "ys2 = specwcs['dispy'][0](100,100,np.arange(t0,t1,0.01))"
   ]
  },
  {
   "cell_type": "code",
   "execution_count": null,
   "metadata": {},
   "outputs": [],
   "source": [
    "ys = [C.DISPY(\"+1\",100,100,x) for x in np.arange(t0,t1,0.01)]"
   ]
  },
  {
   "cell_type": "code",
   "execution_count": null,
   "metadata": {},
   "outputs": [],
   "source": [
    "ys - ys2"
   ]
  },
  {
   "cell_type": "code",
   "execution_count": null,
   "metadata": {},
   "outputs": [],
   "source": []
  }
 ],
 "metadata": {
  "kernelspec": {
   "display_name": "Python 3",
   "language": "python",
   "name": "python3"
  },
  "language_info": {
   "codemirror_mode": {
    "name": "ipython",
    "version": 3
   },
   "file_extension": ".py",
   "mimetype": "text/x-python",
   "name": "python",
   "nbconvert_exporter": "python",
   "pygments_lexer": "ipython3",
   "version": "3.9.0"
  }
 },
 "nbformat": 4,
 "nbformat_minor": 4
}
