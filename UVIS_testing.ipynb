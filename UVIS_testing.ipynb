{
 "cells": [
  {
   "cell_type": "code",
   "execution_count": null,
   "metadata": {},
   "outputs": [],
   "source": [
    "import pathlib\n",
    "import tempfile\n",
    "from urllib.parse import urlparse\n",
    "from urllib.request import urlretrieve\n",
    "\n",
    "import numpy as np\n",
    "import asdf\n",
    "from astropy.io import fits\n",
    "from astropy.modeling import models, fitting\n",
    "import astropy.units as u\n",
    "import matplotlib.pyplot as plt\n",
    "\n",
    "from gwcs import wcs as gwcs\n",
    "from gwcs import coordinate_frames as cf\n",
    "\n",
    "from grism_observation import GrismObs\n",
    "from HST.hst_grism_reffiles import create_tsgrism_wavelengthrange, create_grism_specwcs\n",
    "from HST.generate_wfc3_distortion import create_wfc3_distortion"
   ]
  },
  {
   "cell_type": "code",
   "execution_count": null,
   "metadata": {},
   "outputs": [],
   "source": [
    "# Try out a GrismObs for UVIS\n",
    "\n",
    "sip_file = \"/Users/rosteen/Data/UVIS/G280/icwz15e7q_flt.fits\"\n",
    "\n",
    "test = GrismObs(sip_file)\n",
    "\n",
    "print(test.geometric_transforms[\"CCD1\"].available_frames)\n",
    "\n",
    "g2d = test.geometric_transforms[\"CCD1\"].get_transform(\"grism_detector\", \"detector\")\n",
    "d2g = test.geometric_transforms[\"CCD1\"].get_transform(\"detector\", \"grism_detector\")"
   ]
  },
  {
   "cell_type": "code",
   "execution_count": null,
   "metadata": {},
   "outputs": [],
   "source": [
    "d2g(1500.0, 1500.0, 5000, 1.0)"
   ]
  },
  {
   "cell_type": "code",
   "execution_count": null,
   "metadata": {},
   "outputs": [],
   "source": [
    "g2d(1215.5599807197782, 1681.6227528517936, 1500.0, 1500.0, 1.0)"
   ]
  },
  {
   "cell_type": "code",
   "execution_count": null,
   "metadata": {},
   "outputs": [],
   "source": [
    "g2w = test.geometric_transforms[\"CCD1\"].get_transform(\"grism_detector\", \"world\")\n",
    "w2g = test.geometric_transforms[\"CCD1\"].get_transform(\"world\", \"grism_detector\")"
   ]
  },
  {
   "cell_type": "code",
   "execution_count": null,
   "metadata": {},
   "outputs": [],
   "source": [
    "w2g(206.4318333333, 26.41859444444, 3000, 1.0)"
   ]
  },
  {
   "cell_type": "code",
   "execution_count": null,
   "metadata": {},
   "outputs": [],
   "source": [
    "# Well this sure looks horrible.\n",
    "g2w(1941.4202406834343,\n",
    " 1245.827706141832,\n",
    " 2047.2665683303317,\n",
    " 1070.814770017469,\n",
    " 1.0)"
   ]
  },
  {
   "cell_type": "code",
   "execution_count": null,
   "metadata": {},
   "outputs": [],
   "source": [
    "d2w = test.geometric_transforms[\"CCD1\"].get_transform(\"detector\", \"world\")\n",
    "w2d = test.geometric_transforms[\"CCD1\"].get_transform(\"world\", \"detector\")"
   ]
  },
  {
   "cell_type": "code",
   "execution_count": null,
   "metadata": {
    "scrolled": true
   },
   "outputs": [],
   "source": [
    "test.grism_header"
   ]
  },
  {
   "cell_type": "code",
   "execution_count": null,
   "metadata": {},
   "outputs": [],
   "source": [
    "w2d(206.4318333333, 26.41859444444, 6000, 1.0)"
   ]
  },
  {
   "cell_type": "code",
   "execution_count": null,
   "metadata": {},
   "outputs": [],
   "source": [
    "d2w(2047.2665683303317, 1070.814770017469, 6000.0, 1.0)"
   ]
  },
  {
   "cell_type": "code",
   "execution_count": null,
   "metadata": {},
   "outputs": [],
   "source": []
  }
 ],
 "metadata": {
  "kernelspec": {
   "display_name": "Python 3",
   "language": "python",
   "name": "python3"
  },
  "language_info": {
   "codemirror_mode": {
    "name": "ipython",
    "version": 3
   },
   "file_extension": ".py",
   "mimetype": "text/x-python",
   "name": "python",
   "nbconvert_exporter": "python",
   "pygments_lexer": "ipython3",
   "version": "3.9.0"
  }
 },
 "nbformat": 4,
 "nbformat_minor": 4
}
