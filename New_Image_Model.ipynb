{
 "cells": [
  {
   "cell_type": "code",
   "execution_count": null,
   "metadata": {},
   "outputs": [],
   "source": [
    "cd HST"
   ]
  },
  {
   "cell_type": "code",
   "execution_count": null,
   "metadata": {},
   "outputs": [],
   "source": [
    "import pathlib\n",
    "import tempfile\n",
    "from urllib.parse import urlparse\n",
    "from urllib.request import urlretrieve\n",
    "\n",
    "from gwcs import coordinate_frames as cf\n",
    "from astropy import units as u\n",
    "from astropy.modeling import models\n",
    "from astropy.io import fits\n",
    "from gwcs import WCS\n",
    "import numpy as np\n",
    "import asdf\n",
    "\n",
    "\n",
    "from hst_grism_reffiles import create_tsgrism_wavelengthrange, create_grism_specwcs\n",
    "from generate_wfc3_distortion import create_wfc3_distortion\n",
    "from transform_models import WFC3IRForwardGrismDispersion, WFC3IRBackwardGrismDispersion"
   ]
  },
  {
   "cell_type": "code",
   "execution_count": null,
   "metadata": {},
   "outputs": [],
   "source": [
    "reference_files = dict()\n",
    "\n",
    "specwcs = asdf.open('../config/HST/WFC3_G141_specwcs.asdf').tree\n",
    "displ = specwcs['displ']\n",
    "dispx = specwcs['dispx']\n",
    "dispy = specwcs['dispy']\n",
    "invdispl = specwcs['invdispl']\n",
    "invdispx = specwcs['invdispx']\n",
    "invdispy = specwcs['invdispy']\n",
    "orders = specwcs['order']\n",
    "\n",
    "gdetector = cf.Frame2D(name='grism_detector', \n",
    "                       axes_order=(0, 1),\n",
    "                       unit=(u.pix, u.pix))\n",
    "\n",
    "det2det = WFC3IRForwardGrismDispersion(orders,\n",
    "                                        lmodels=displ,\n",
    "                                        xmodels=invdispx,\n",
    "                                        ymodels=dispy)\n",
    "\n",
    "det2det.inverse = WFC3IRBackwardGrismDispersion(orders,\n",
    "                                              lmodels=invdispl,\n",
    "                                              xmodels=dispx,\n",
    "                                              ymodels=dispy)\n",
    "\n",
    "grism_pipeline = [(gdetector, det2det)]"
   ]
  },
  {
   "cell_type": "code",
   "execution_count": null,
   "metadata": {},
   "outputs": [],
   "source": [
    "from astropy.utils.data import download_file\n",
    "fn = download_file('https://github.com/npirzkal/aXe_WFC3_Cookbook/raw/main/cookbook_data/G141/ib6o23rsq_flt.fits', cache=True)\n",
    "grism_image_hdulist = fits.open(fn)"
   ]
  },
  {
   "cell_type": "code",
   "execution_count": null,
   "metadata": {},
   "outputs": [],
   "source": [
    "acoef = dict(grism_image_hdulist[1].header['A*'])\n",
    "a_order = acoef.pop('A_ORDER')\n",
    "bcoef = dict(grism_image_hdulist[1].header['B_*'])\n",
    "b_order = bcoef.pop('B_ORDER')\n",
    "crpix = [grism_image_hdulist[1].header['CRPIX1'], grism_image_hdulist[1].header['CRPIX2']]\n",
    "\n",
    "crval = [grism_image_hdulist[1].header['CRVAL1'], grism_image_hdulist[1].header['CRVAL2']]\n",
    "cdmat = np.array([[grism_image_hdulist[1].header['CD1_1'], grism_image_hdulist[1].header['CD1_2']],\n",
    "                  [grism_image_hdulist[1].header['CD2_1'], grism_image_hdulist[1].header['CD2_2']]])\n",
    "\n",
    "apcoef = {}\n",
    "for key in acoef:\n",
    "    apcoef['c' + key.split('A_')[1]] = acoef[key]\n",
    "    \n",
    "bpcoef = {}\n",
    "for key in bcoef:\n",
    "    bpcoef['c' + key.split('B_')[1]] = bcoef[key]\n",
    "\n",
    "a_poly = models.Polynomial2D(a_order, **apcoef)\n",
    "b_poly = models.Polynomial2D(b_order, **bpcoef)\n",
    "\n",
    "mr = (models.Shift(-(crpix[0]-1)) & models.Shift(-(crpix[1]-1)) | # Calculate u and v coords\n",
    "     models.Mapping((0, 1, 0, 1, 0, 1)) | a_poly & b_poly & models.Identity(2) | # calculate f(u,v) and g(u,v)\n",
    "     models.Mapping((0, 2, 1, 3)) | models.math.AddUfunc() & models.math.AddUfunc() | # Calculate u+f(u,v) and v+g(u,v)\n",
    "     models.AffineTransformation2D(matrix=cdmat) | models.Pix2Sky_TAN() | \n",
    "     models.RotateNative2Celestial(crval[0], crval[1], 180))\n",
    "\n",
    "imagepipe = []\n",
    "det_frame = cf.Frame2D(name=\"detector\")\n",
    "spec = cf.SpectralFrame(name='spectral', axes_order=(2,), unit=(u.micron,),\n",
    "                            axes_names=('wavelength',))\n",
    "\n",
    "imagepipe.append((cf.CompositeFrame([det_frame, spec], name=\"detector\"), mr & models.Identity(2)))\n",
    "\n",
    "\n",
    "world_frame = cf.CelestialFrame(name=\"world\", unit = (u.Unit(\"deg\"), u.Unit(\"deg\")), \n",
    "                             axes_names=('lon', 'lat'), axes_order=(0, 1),\n",
    "                             reference_frame=\"ICRS\")\n",
    "\n",
    "imagepipe.append((cf.CompositeFrame([world_frame, spec], name=\"sky\"), None))\n",
    "grism_pipeline.extend(imagepipe)\n",
    "\n",
    "wcsobj = WCS(grism_pipeline)"
   ]
  },
  {
   "cell_type": "code",
   "execution_count": null,
   "metadata": {},
   "outputs": [],
   "source": [
    "wcsobj"
   ]
  },
  {
   "cell_type": "code",
   "execution_count": null,
   "metadata": {},
   "outputs": [],
   "source": []
  },
  {
   "cell_type": "markdown",
   "metadata": {},
   "source": [
    "### Experimenting to figure out how to get inverse transform working"
   ]
  },
  {
   "cell_type": "code",
   "execution_count": null,
   "metadata": {},
   "outputs": [],
   "source": [
    "imagepipe3 = []\n",
    "det_frame = cf.Frame2D(name=\"detector\")\n",
    "imagepipe3.append((det_frame, mr))\n",
    "\n",
    "world_frame = cf.CelestialFrame(name=\"world\", unit = (u.Unit(\"deg\"), u.Unit(\"deg\")), \n",
    "                             axes_names=('lon', 'lat'), axes_order=(0, 1),\n",
    "                             reference_frame=\"ICRS\")\n",
    "imagepipe3.append((world_frame, None))\n",
    "\n",
    "# Reminder, this is gwcs.WCS\n",
    "wcsobj3 = WCS(imagepipe3)"
   ]
  },
  {
   "cell_type": "code",
   "execution_count": null,
   "metadata": {},
   "outputs": [],
   "source": [
    "wcsobj3(507, 507)"
   ]
  },
  {
   "cell_type": "code",
   "execution_count": null,
   "metadata": {},
   "outputs": [],
   "source": [
    "# This works, since I haven't added any wavelength or order input/output anywhere in the mr model yet\n",
    "\n",
    "wcsobj3.invert(53.07354713110038, -27.70724006671666)"
   ]
  },
  {
   "cell_type": "code",
   "execution_count": null,
   "metadata": {},
   "outputs": [],
   "source": [
    "wcsobj3.get_transform('detector', 'world')"
   ]
  },
  {
   "cell_type": "code",
   "execution_count": null,
   "metadata": {},
   "outputs": [],
   "source": [
    "mr.has_inverse()"
   ]
  }
 ],
 "metadata": {
  "kernelspec": {
   "display_name": "Python 3",
   "language": "python",
   "name": "python3"
  },
  "language_info": {
   "codemirror_mode": {
    "name": "ipython",
    "version": 3
   },
   "file_extension": ".py",
   "mimetype": "text/x-python",
   "name": "python",
   "nbconvert_exporter": "python",
   "pygments_lexer": "ipython3",
   "version": "3.8.5"
  }
 },
 "nbformat": 4,
 "nbformat_minor": 4
}
